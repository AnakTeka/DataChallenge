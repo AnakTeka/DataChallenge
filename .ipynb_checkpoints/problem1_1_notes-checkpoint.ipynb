{
 "cells": [
  {
   "cell_type": "markdown",
   "metadata": {},
   "source": [
    "###### Problem 1.1: Bank Marketing Data\n",
    "Aaron Bell"
   ]
  },
  {
   "cell_type": "markdown",
   "metadata": {},
   "source": []
  },
  {
   "cell_type": "markdown",
   "metadata": {},
   "source": [
    "# -1) Import core packages"
   ]
  },
  {
   "cell_type": "code",
   "execution_count": 900,
   "metadata": {},
   "outputs": [],
   "source": [
    "# for displaying plots in a notebook\n",
    "%matplotlib inline \n",
    "\n",
    "import numpy as np # simply array and mathematical operations\n",
    "import pandas as pd # R-like handling with dataframes, etc.\n",
    "import seaborn as sb # for making your statistical plots look pretty\n",
    "import matplotlib.pyplot as plt"
   ]
  },
  {
   "cell_type": "markdown",
   "metadata": {},
   "source": [
    "# 0) Data loading\n",
    "The pandas package allows for easy reading-in of CSV and other files. \n",
    "We'll load the data into a pandas dataframe (analagous to R dataframes), then take a look at how it's stuctured.\n",
    "\n",
    "IMPORTANT: 'read_csv' sometimes gets confused if the file is delimited in a weird way. In this case, the columns are separated by semi-colon rather than comma, se we have to set 'sep = \";\"'. Otherwise all the data go to one column.\n",
    "\n",
    "We also know from the instructions that the target label, whether customers said \"yes\" or \"no\" to a term deposit, is in columng \"y\". We'll separate that as well."
   ]
  },
  {
   "cell_type": "code",
   "execution_count": 901,
   "metadata": {},
   "outputs": [
    {
     "data": {
      "text/html": [
       "<div>\n",
       "<table border=\"1\" class=\"dataframe\">\n",
       "  <thead>\n",
       "    <tr style=\"text-align: right;\">\n",
       "      <th></th>\n",
       "      <th>age</th>\n",
       "      <th>job</th>\n",
       "      <th>marital</th>\n",
       "      <th>education</th>\n",
       "      <th>default</th>\n",
       "      <th>housing</th>\n",
       "      <th>loan</th>\n",
       "      <th>contact</th>\n",
       "      <th>month</th>\n",
       "      <th>day_of_week</th>\n",
       "      <th>duration</th>\n",
       "      <th>campaign</th>\n",
       "      <th>pdays</th>\n",
       "      <th>previous</th>\n",
       "      <th>poutcome</th>\n",
       "      <th>emp.var.rate</th>\n",
       "      <th>cons.price.idx</th>\n",
       "      <th>cons.conf.idx</th>\n",
       "      <th>euribor3m</th>\n",
       "      <th>nr.employed</th>\n",
       "    </tr>\n",
       "  </thead>\n",
       "  <tbody>\n",
       "    <tr>\n",
       "      <th>0</th>\n",
       "      <td>56</td>\n",
       "      <td>housemaid</td>\n",
       "      <td>married</td>\n",
       "      <td>basic.4y</td>\n",
       "      <td>no</td>\n",
       "      <td>no</td>\n",
       "      <td>no</td>\n",
       "      <td>telephone</td>\n",
       "      <td>may</td>\n",
       "      <td>mon</td>\n",
       "      <td>261</td>\n",
       "      <td>1</td>\n",
       "      <td>999</td>\n",
       "      <td>0</td>\n",
       "      <td>nonexistent</td>\n",
       "      <td>1.1</td>\n",
       "      <td>93.994</td>\n",
       "      <td>-36.4</td>\n",
       "      <td>4.857</td>\n",
       "      <td>5191.0</td>\n",
       "    </tr>\n",
       "    <tr>\n",
       "      <th>1</th>\n",
       "      <td>57</td>\n",
       "      <td>services</td>\n",
       "      <td>married</td>\n",
       "      <td>high.school</td>\n",
       "      <td>unknown</td>\n",
       "      <td>no</td>\n",
       "      <td>no</td>\n",
       "      <td>telephone</td>\n",
       "      <td>may</td>\n",
       "      <td>mon</td>\n",
       "      <td>149</td>\n",
       "      <td>1</td>\n",
       "      <td>999</td>\n",
       "      <td>0</td>\n",
       "      <td>nonexistent</td>\n",
       "      <td>1.1</td>\n",
       "      <td>93.994</td>\n",
       "      <td>-36.4</td>\n",
       "      <td>4.857</td>\n",
       "      <td>5191.0</td>\n",
       "    </tr>\n",
       "    <tr>\n",
       "      <th>2</th>\n",
       "      <td>37</td>\n",
       "      <td>services</td>\n",
       "      <td>married</td>\n",
       "      <td>high.school</td>\n",
       "      <td>no</td>\n",
       "      <td>yes</td>\n",
       "      <td>no</td>\n",
       "      <td>telephone</td>\n",
       "      <td>may</td>\n",
       "      <td>mon</td>\n",
       "      <td>226</td>\n",
       "      <td>1</td>\n",
       "      <td>999</td>\n",
       "      <td>0</td>\n",
       "      <td>nonexistent</td>\n",
       "      <td>1.1</td>\n",
       "      <td>93.994</td>\n",
       "      <td>-36.4</td>\n",
       "      <td>4.857</td>\n",
       "      <td>5191.0</td>\n",
       "    </tr>\n",
       "    <tr>\n",
       "      <th>3</th>\n",
       "      <td>40</td>\n",
       "      <td>admin.</td>\n",
       "      <td>married</td>\n",
       "      <td>basic.6y</td>\n",
       "      <td>no</td>\n",
       "      <td>no</td>\n",
       "      <td>no</td>\n",
       "      <td>telephone</td>\n",
       "      <td>may</td>\n",
       "      <td>mon</td>\n",
       "      <td>151</td>\n",
       "      <td>1</td>\n",
       "      <td>999</td>\n",
       "      <td>0</td>\n",
       "      <td>nonexistent</td>\n",
       "      <td>1.1</td>\n",
       "      <td>93.994</td>\n",
       "      <td>-36.4</td>\n",
       "      <td>4.857</td>\n",
       "      <td>5191.0</td>\n",
       "    </tr>\n",
       "    <tr>\n",
       "      <th>4</th>\n",
       "      <td>56</td>\n",
       "      <td>services</td>\n",
       "      <td>married</td>\n",
       "      <td>high.school</td>\n",
       "      <td>no</td>\n",
       "      <td>no</td>\n",
       "      <td>yes</td>\n",
       "      <td>telephone</td>\n",
       "      <td>may</td>\n",
       "      <td>mon</td>\n",
       "      <td>307</td>\n",
       "      <td>1</td>\n",
       "      <td>999</td>\n",
       "      <td>0</td>\n",
       "      <td>nonexistent</td>\n",
       "      <td>1.1</td>\n",
       "      <td>93.994</td>\n",
       "      <td>-36.4</td>\n",
       "      <td>4.857</td>\n",
       "      <td>5191.0</td>\n",
       "    </tr>\n",
       "  </tbody>\n",
       "</table>\n",
       "</div>"
      ],
      "text/plain": [
       "   age        job  marital    education  default housing loan    contact  \\\n",
       "0   56  housemaid  married     basic.4y       no      no   no  telephone   \n",
       "1   57   services  married  high.school  unknown      no   no  telephone   \n",
       "2   37   services  married  high.school       no     yes   no  telephone   \n",
       "3   40     admin.  married     basic.6y       no      no   no  telephone   \n",
       "4   56   services  married  high.school       no      no  yes  telephone   \n",
       "\n",
       "  month day_of_week  duration  campaign  pdays  previous     poutcome  \\\n",
       "0   may         mon       261         1    999         0  nonexistent   \n",
       "1   may         mon       149         1    999         0  nonexistent   \n",
       "2   may         mon       226         1    999         0  nonexistent   \n",
       "3   may         mon       151         1    999         0  nonexistent   \n",
       "4   may         mon       307         1    999         0  nonexistent   \n",
       "\n",
       "   emp.var.rate  cons.price.idx  cons.conf.idx  euribor3m  nr.employed  \n",
       "0           1.1          93.994          -36.4      4.857       5191.0  \n",
       "1           1.1          93.994          -36.4      4.857       5191.0  \n",
       "2           1.1          93.994          -36.4      4.857       5191.0  \n",
       "3           1.1          93.994          -36.4      4.857       5191.0  \n",
       "4           1.1          93.994          -36.4      4.857       5191.0  "
      ]
     },
     "execution_count": 901,
     "metadata": {},
     "output_type": "execute_result"
    }
   ],
   "source": [
    "data_original   = pd.read_csv('data/raw/bank-additional/bank-additional-full.csv', sep = \";\")\n",
    "data = data_original.copy()\n",
    "\n",
    "labels = data[\"y\"].copy()\n",
    "data   = data.drop(\"y\",axis=1)\n",
    "\n",
    "data.head()"
   ]
  },
  {
   "cell_type": "markdown",
   "metadata": {
    "collapsed": true
   },
   "source": [
    "# 0) Data splitting"
   ]
  },
  {
   "cell_type": "markdown",
   "metadata": {},
   "source": [
    "To make sure we're testing our process as objectively as possible, we don't want the data we use to fit the model (\"training\" data) to be mixed with the data used for the final performance test (\"testing\" data). \n",
    "\n",
    "First we'll try a simple 70/30, training/testing spit, randomly selecting data points for each set.\n",
    "\n",
    "We won't take any looks at the the data until it's split, so that the test can be as independent as possible from our analysis strategy. "
   ]
  },
  {
   "cell_type": "code",
   "execution_count": 902,
   "metadata": {},
   "outputs": [],
   "source": [
    "from sklearn.model_selection import train_test_split\n",
    "\n",
    "train, test, train_labels, test_labels = train_test_split(data, labels, test_size=0.33, random_state=1337)"
   ]
  },
  {
   "cell_type": "markdown",
   "metadata": {},
   "source": [
    "Let's see what the data types are, and how many entries we have after the split."
   ]
  },
  {
   "cell_type": "code",
   "execution_count": 903,
   "metadata": {},
   "outputs": [
    {
     "name": "stdout",
     "output_type": "stream",
     "text": [
      "<class 'pandas.core.frame.DataFrame'>\n",
      "Int64Index: 27595 entries, 14401 to 3223\n",
      "Data columns (total 20 columns):\n",
      "age               27595 non-null int64\n",
      "job               27595 non-null object\n",
      "marital           27595 non-null object\n",
      "education         27595 non-null object\n",
      "default           27595 non-null object\n",
      "housing           27595 non-null object\n",
      "loan              27595 non-null object\n",
      "contact           27595 non-null object\n",
      "month             27595 non-null object\n",
      "day_of_week       27595 non-null object\n",
      "duration          27595 non-null int64\n",
      "campaign          27595 non-null int64\n",
      "pdays             27595 non-null int64\n",
      "previous          27595 non-null int64\n",
      "poutcome          27595 non-null object\n",
      "emp.var.rate      27595 non-null float64\n",
      "cons.price.idx    27595 non-null float64\n",
      "cons.conf.idx     27595 non-null float64\n",
      "euribor3m         27595 non-null float64\n",
      "nr.employed       27595 non-null float64\n",
      "dtypes: float64(5), int64(5), object(10)\n",
      "memory usage: 4.4+ MB\n"
     ]
    }
   ],
   "source": [
    "train.info()"
   ]
  },
  {
   "cell_type": "markdown",
   "metadata": {},
   "source": [
    "So we have ourselves a mixed-bag of data here. We won't be able to just charge-forward with either a categorical or quantitative approach... \n",
    "\n",
    "Now let's see a sample of the data table itself."
   ]
  },
  {
   "cell_type": "code",
   "execution_count": 904,
   "metadata": {},
   "outputs": [
    {
     "data": {
      "text/html": [
       "<div>\n",
       "<table border=\"1\" class=\"dataframe\">\n",
       "  <thead>\n",
       "    <tr style=\"text-align: right;\">\n",
       "      <th></th>\n",
       "      <th>age</th>\n",
       "      <th>job</th>\n",
       "      <th>marital</th>\n",
       "      <th>education</th>\n",
       "      <th>default</th>\n",
       "      <th>housing</th>\n",
       "      <th>loan</th>\n",
       "      <th>contact</th>\n",
       "      <th>month</th>\n",
       "      <th>day_of_week</th>\n",
       "      <th>duration</th>\n",
       "      <th>campaign</th>\n",
       "      <th>pdays</th>\n",
       "      <th>previous</th>\n",
       "      <th>poutcome</th>\n",
       "      <th>emp.var.rate</th>\n",
       "      <th>cons.price.idx</th>\n",
       "      <th>cons.conf.idx</th>\n",
       "      <th>euribor3m</th>\n",
       "      <th>nr.employed</th>\n",
       "    </tr>\n",
       "  </thead>\n",
       "  <tbody>\n",
       "    <tr>\n",
       "      <th>14401</th>\n",
       "      <td>38</td>\n",
       "      <td>blue-collar</td>\n",
       "      <td>single</td>\n",
       "      <td>basic.9y</td>\n",
       "      <td>unknown</td>\n",
       "      <td>yes</td>\n",
       "      <td>no</td>\n",
       "      <td>cellular</td>\n",
       "      <td>jul</td>\n",
       "      <td>mon</td>\n",
       "      <td>72</td>\n",
       "      <td>3</td>\n",
       "      <td>999</td>\n",
       "      <td>0</td>\n",
       "      <td>nonexistent</td>\n",
       "      <td>1.4</td>\n",
       "      <td>93.918</td>\n",
       "      <td>-42.7</td>\n",
       "      <td>4.962</td>\n",
       "      <td>5228.1</td>\n",
       "    </tr>\n",
       "    <tr>\n",
       "      <th>35284</th>\n",
       "      <td>39</td>\n",
       "      <td>admin.</td>\n",
       "      <td>married</td>\n",
       "      <td>university.degree</td>\n",
       "      <td>no</td>\n",
       "      <td>yes</td>\n",
       "      <td>no</td>\n",
       "      <td>cellular</td>\n",
       "      <td>may</td>\n",
       "      <td>fri</td>\n",
       "      <td>364</td>\n",
       "      <td>2</td>\n",
       "      <td>999</td>\n",
       "      <td>0</td>\n",
       "      <td>nonexistent</td>\n",
       "      <td>-1.8</td>\n",
       "      <td>92.893</td>\n",
       "      <td>-46.2</td>\n",
       "      <td>1.250</td>\n",
       "      <td>5099.1</td>\n",
       "    </tr>\n",
       "    <tr>\n",
       "      <th>1225</th>\n",
       "      <td>36</td>\n",
       "      <td>blue-collar</td>\n",
       "      <td>married</td>\n",
       "      <td>basic.6y</td>\n",
       "      <td>unknown</td>\n",
       "      <td>no</td>\n",
       "      <td>no</td>\n",
       "      <td>telephone</td>\n",
       "      <td>may</td>\n",
       "      <td>thu</td>\n",
       "      <td>166</td>\n",
       "      <td>1</td>\n",
       "      <td>999</td>\n",
       "      <td>0</td>\n",
       "      <td>nonexistent</td>\n",
       "      <td>1.1</td>\n",
       "      <td>93.994</td>\n",
       "      <td>-36.4</td>\n",
       "      <td>4.855</td>\n",
       "      <td>5191.0</td>\n",
       "    </tr>\n",
       "    <tr>\n",
       "      <th>8289</th>\n",
       "      <td>53</td>\n",
       "      <td>self-employed</td>\n",
       "      <td>married</td>\n",
       "      <td>university.degree</td>\n",
       "      <td>no</td>\n",
       "      <td>yes</td>\n",
       "      <td>no</td>\n",
       "      <td>telephone</td>\n",
       "      <td>jun</td>\n",
       "      <td>tue</td>\n",
       "      <td>119</td>\n",
       "      <td>4</td>\n",
       "      <td>999</td>\n",
       "      <td>0</td>\n",
       "      <td>nonexistent</td>\n",
       "      <td>1.4</td>\n",
       "      <td>94.465</td>\n",
       "      <td>-41.8</td>\n",
       "      <td>4.864</td>\n",
       "      <td>5228.1</td>\n",
       "    </tr>\n",
       "    <tr>\n",
       "      <th>31412</th>\n",
       "      <td>32</td>\n",
       "      <td>technician</td>\n",
       "      <td>single</td>\n",
       "      <td>professional.course</td>\n",
       "      <td>no</td>\n",
       "      <td>yes</td>\n",
       "      <td>no</td>\n",
       "      <td>cellular</td>\n",
       "      <td>may</td>\n",
       "      <td>wed</td>\n",
       "      <td>97</td>\n",
       "      <td>2</td>\n",
       "      <td>999</td>\n",
       "      <td>0</td>\n",
       "      <td>nonexistent</td>\n",
       "      <td>-1.8</td>\n",
       "      <td>92.893</td>\n",
       "      <td>-46.2</td>\n",
       "      <td>1.334</td>\n",
       "      <td>5099.1</td>\n",
       "    </tr>\n",
       "  </tbody>\n",
       "</table>\n",
       "</div>"
      ],
      "text/plain": [
       "       age            job  marital            education  default housing loan  \\\n",
       "14401   38    blue-collar   single             basic.9y  unknown     yes   no   \n",
       "35284   39         admin.  married    university.degree       no     yes   no   \n",
       "1225    36    blue-collar  married             basic.6y  unknown      no   no   \n",
       "8289    53  self-employed  married    university.degree       no     yes   no   \n",
       "31412   32     technician   single  professional.course       no     yes   no   \n",
       "\n",
       "         contact month day_of_week  duration  campaign  pdays  previous  \\\n",
       "14401   cellular   jul         mon        72         3    999         0   \n",
       "35284   cellular   may         fri       364         2    999         0   \n",
       "1225   telephone   may         thu       166         1    999         0   \n",
       "8289   telephone   jun         tue       119         4    999         0   \n",
       "31412   cellular   may         wed        97         2    999         0   \n",
       "\n",
       "          poutcome  emp.var.rate  cons.price.idx  cons.conf.idx  euribor3m  \\\n",
       "14401  nonexistent           1.4          93.918          -42.7      4.962   \n",
       "35284  nonexistent          -1.8          92.893          -46.2      1.250   \n",
       "1225   nonexistent           1.1          93.994          -36.4      4.855   \n",
       "8289   nonexistent           1.4          94.465          -41.8      4.864   \n",
       "31412  nonexistent          -1.8          92.893          -46.2      1.334   \n",
       "\n",
       "       nr.employed  \n",
       "14401       5228.1  \n",
       "35284       5099.1  \n",
       "1225        5191.0  \n",
       "8289        5228.1  \n",
       "31412       5099.1  "
      ]
     },
     "execution_count": 904,
     "metadata": {},
     "output_type": "execute_result"
    }
   ],
   "source": [
    "train.head()"
   ]
  },
  {
   "cell_type": "markdown",
   "metadata": {},
   "source": [
    "Some columns show missing or N/A values, like 'unknown' in 'default', and 'nonexistent' in 'poutcome'. We may not necessarily keep all the columns, but we have to choose a strategy now for handling rows (\"participants\") that have missing data values.\n",
    "\n",
    "For this project, let's take a conservative approach- remove entire rows that have 'unknown' values. This is to avoid treating 'unknown' as carrying the same degree of meaning as the defined categories. We don't know why this data are unknown, and we can't assume that two people who have 'unknown' education values have anything in common. \n",
    "\n",
    "Value '999' for 'pdays' also carries no quantitative meaning. But at the same time, if we remove all of these rows, then we're removing all the data where the participant was being called for the first-time. We'll leave these rows for now, but consider removing the 'pdays' column later."
   ]
  },
  {
   "cell_type": "code",
   "execution_count": 905,
   "metadata": {},
   "outputs": [
    {
     "data": {
      "text/plain": [
       "14401    no\n",
       "35284    no\n",
       "1225     no\n",
       "8289     no\n",
       "31412    no\n",
       "Name: y, dtype: object"
      ]
     },
     "execution_count": 905,
     "metadata": {},
     "output_type": "execute_result"
    }
   ],
   "source": [
    "train_labels.head()"
   ]
  },
  {
   "cell_type": "code",
   "execution_count": 906,
   "metadata": {},
   "outputs": [
    {
     "name": "stderr",
     "output_type": "stream",
     "text": [
      "/work1/users/aaronb/Softbrary/Anaconda/lib/python2.7/site-packages/ipykernel_launcher.py:8: UserWarning: Boolean Series key will be reindexed to match DataFrame index.\n",
      "  \n"
     ]
    },
    {
     "data": {
      "text/plain": [
       "35284    no\n",
       "8289     no\n",
       "31412    no\n",
       "22884    no\n",
       "25811    no\n",
       "Name: y, dtype: object"
      ]
     },
     "execution_count": 906,
     "metadata": {},
     "output_type": "execute_result"
    }
   ],
   "source": [
    "def dropMissingData(data, labels, missing_val, missing_val_cols, labels_colname = \"y\"):\n",
    "    \n",
    "    data_temp = data.join(labels)\n",
    "    #print data_temp.head()\n",
    "    \n",
    "    for missing_val_col in missing_val_cols:\n",
    "        \n",
    "        data_temp = data_temp[ data[missing_val_col]!=missing_val  ]\n",
    "\n",
    "    labels_temp = data_temp[labels_colname]\n",
    "    data_temp   = data_temp.drop(labels_colname, axis=1)\n",
    "    \n",
    "    return data_temp, labels_temp\n",
    "\n",
    "train, train_labels = dropMissingData(train,\n",
    "                                      train_labels, \n",
    "                                      missing_val=\"unknown\", \n",
    "                                      missing_val_cols = [\"education\",\"marital\",\"default\",\"job\"],\n",
    "                                      labels_colname = \"y\")\n",
    "train_labels.head()"
   ]
  },
  {
   "cell_type": "code",
   "execution_count": 907,
   "metadata": {},
   "outputs": [
    {
     "data": {
      "text/plain": [
       "35284     no\n",
       "8289      no\n",
       "31412     no\n",
       "22884     no\n",
       "25811     no\n",
       "33431     no\n",
       "24166     no\n",
       "37909     no\n",
       "11784     no\n",
       "36775    yes\n",
       "Name: y, dtype: object"
      ]
     },
     "execution_count": 907,
     "metadata": {},
     "output_type": "execute_result"
    }
   ],
   "source": [
    "train_labels.head(10)"
   ]
  },
  {
   "cell_type": "code",
   "execution_count": 908,
   "metadata": {},
   "outputs": [
    {
     "data": {
      "text/plain": [
       "0"
      ]
     },
     "execution_count": 908,
     "metadata": {},
     "output_type": "execute_result"
    }
   ],
   "source": [
    "len(train.default[train.default==\"unknown\"])"
   ]
  },
  {
   "cell_type": "markdown",
   "metadata": {},
   "source": [
    "# 3) Feature Selection"
   ]
  },
  {
   "cell_type": "markdown",
   "metadata": {},
   "source": [
    "We're given 21 features, which is tempting to just throw at a black-box and see what comes out.\n",
    "But let's show some patience, and pre-analyze which features are the most useful, which are redundant and uninformative."
   ]
  },
  {
   "cell_type": "markdown",
   "metadata": {},
   "source": [
    "In to the instructions, we're told that \"duration\" had best be omitted:  \n",
    "```...the duration is not known before a call is performed. Also, after the end of the call y is obviously known. Thus, this input should only be included for benchmark purposes and should be discarded if the intention is to have a realistic predictive model. ``` \n",
    "\n",
    "Which makes sense. If you are looking at a spread-sheet of client data, you have no idea how long a phone call in their future is going to last. If the call duration was being controlled somehow by the telemarketers, we could test if keeping participants on the phone longer related to more \"yes\" answers. But we don't know that in this case. We just assume that 'duration' means the after-the-fact length of the call, including time it takes for customers to ask questions and confirm their answers, and that the telemarketers were not artifically controlling the call length. \n",
    "\n",
    "So let's drop it."
   ]
  },
  {
   "cell_type": "code",
   "execution_count": 909,
   "metadata": {},
   "outputs": [],
   "source": [
    "train = train.drop(\"duration\", axis=1)"
   ]
  },
  {
   "cell_type": "markdown",
   "metadata": {},
   "source": [
    "## 3.2) Isolate the quantitative columns\n",
    "\n",
    "Some data are given to us as numbers. Others are string labels, without an obvious way to rank them."
   ]
  },
  {
   "cell_type": "markdown",
   "metadata": {},
   "source": [
    "The quantitative data are either integer ('int64') or floats ('float64'). The qualitative, string data are given as object data type, indicatd by 'O'. We'll call the qualitative ones 'nom_cols', so we don't confuse it with 'quant_cols'."
   ]
  },
  {
   "cell_type": "code",
   "execution_count": 910,
   "metadata": {},
   "outputs": [
    {
     "data": {
      "text/plain": [
       "array([dtype('int64'), dtype('O'), dtype('O'), dtype('O'), dtype('O'),\n",
       "       dtype('O'), dtype('O'), dtype('O'), dtype('O'), dtype('O'),\n",
       "       dtype('int64'), dtype('int64'), dtype('int64'), dtype('O'),\n",
       "       dtype('float64'), dtype('float64'), dtype('float64'),\n",
       "       dtype('float64'), dtype('float64')], dtype=object)"
      ]
     },
     "execution_count": 910,
     "metadata": {},
     "output_type": "execute_result"
    }
   ],
   "source": [
    "train.dtypes.values"
   ]
  },
  {
   "cell_type": "code",
   "execution_count": 911,
   "metadata": {},
   "outputs": [
    {
     "data": {
      "text/plain": [
       "array(['age', 'campaign', 'pdays', 'previous', 'emp.var.rate',\n",
       "       'cons.price.idx', 'cons.conf.idx', 'euribor3m', 'nr.employed'], dtype=object)"
      ]
     },
     "execution_count": 911,
     "metadata": {},
     "output_type": "execute_result"
    }
   ],
   "source": [
    "quant_cols  = train.columns.values[(train.dtypes =='int64') | (train.dtypes =='float64')]\n",
    "quant_cols"
   ]
  },
  {
   "cell_type": "markdown",
   "metadata": {},
   "source": [
    "## 3.3) Variance test the quantitative features"
   ]
  },
  {
   "cell_type": "markdown",
   "metadata": {},
   "source": [
    "Asking \"How informative is this column?\" is like asking \"How much does this column tell us about how data points vary from one another?\". \n",
    "\n",
    "For the quantitative data, there's a straight-forward way to test this--- just take the variance. To do this properly, we have to put the data into the same scale. Depending on the modeling method we try, this might have to do this anyways (i.e. for neural networks).\n",
    "\n",
    "\n",
    "We'll first set a threshold for the variance, and then exclude columns that don't meet this threshold. A good example from scikit learn's documentations shows a variance filter of 0.8, so let's use that for the moment."
   ]
  },
  {
   "cell_type": "code",
   "execution_count": 916,
   "metadata": {},
   "outputs": [
    {
     "name": "stdout",
     "output_type": "stream",
     "text": [
      "[ 105.7632  7.2398  40334.6286  0.2704  2.6018  0.3430  22.9886  3.1648\n",
      "  5662.1008]\n",
      "[ True  True  True False  True False  True  True  True]\n"
     ]
    },
    {
     "data": {
      "text/html": [
       "<div>\n",
       "<table border=\"1\" class=\"dataframe\">\n",
       "  <thead>\n",
       "    <tr style=\"text-align: right;\">\n",
       "      <th></th>\n",
       "      <th>age</th>\n",
       "      <th>campaign</th>\n",
       "      <th>pdays</th>\n",
       "      <th>previous</th>\n",
       "      <th>emp.var.rate</th>\n",
       "      <th>cons.price.idx</th>\n",
       "      <th>cons.conf.idx</th>\n",
       "      <th>euribor3m</th>\n",
       "      <th>nr.employed</th>\n",
       "    </tr>\n",
       "  </thead>\n",
       "  <tbody>\n",
       "    <tr>\n",
       "      <th>0</th>\n",
       "      <td>-0.01786</td>\n",
       "      <td>-0.52231</td>\n",
       "      <td>42.4262</td>\n",
       "      <td>-0.19327</td>\n",
       "      <td>-1.72598</td>\n",
       "      <td>-0.63025</td>\n",
       "      <td>-5.60211</td>\n",
       "      <td>-2.20614</td>\n",
       "      <td>-61.49658</td>\n",
       "    </tr>\n",
       "    <tr>\n",
       "      <th>1</th>\n",
       "      <td>13.98214</td>\n",
       "      <td>1.47769</td>\n",
       "      <td>42.4262</td>\n",
       "      <td>-0.19327</td>\n",
       "      <td>1.47402</td>\n",
       "      <td>0.94175</td>\n",
       "      <td>-1.20211</td>\n",
       "      <td>1.40786</td>\n",
       "      <td>67.50342</td>\n",
       "    </tr>\n",
       "    <tr>\n",
       "      <th>2</th>\n",
       "      <td>-7.01786</td>\n",
       "      <td>-0.52231</td>\n",
       "      <td>42.4262</td>\n",
       "      <td>-0.19327</td>\n",
       "      <td>-1.72598</td>\n",
       "      <td>-0.63025</td>\n",
       "      <td>-5.60211</td>\n",
       "      <td>-2.12214</td>\n",
       "      <td>-61.49658</td>\n",
       "    </tr>\n",
       "    <tr>\n",
       "      <th>3</th>\n",
       "      <td>-9.01786</td>\n",
       "      <td>0.47769</td>\n",
       "      <td>42.4262</td>\n",
       "      <td>-0.19327</td>\n",
       "      <td>1.47402</td>\n",
       "      <td>-0.07925</td>\n",
       "      <td>4.49789</td>\n",
       "      <td>1.50886</td>\n",
       "      <td>67.50342</td>\n",
       "    </tr>\n",
       "    <tr>\n",
       "      <th>4</th>\n",
       "      <td>-1.01786</td>\n",
       "      <td>-1.52231</td>\n",
       "      <td>42.4262</td>\n",
       "      <td>-0.19327</td>\n",
       "      <td>-0.02598</td>\n",
       "      <td>-0.32325</td>\n",
       "      <td>-1.40211</td>\n",
       "      <td>0.66386</td>\n",
       "      <td>35.20342</td>\n",
       "    </tr>\n",
       "  </tbody>\n",
       "</table>\n",
       "</div>"
      ],
      "text/plain": [
       "        age  campaign    pdays  previous  emp.var.rate  cons.price.idx  \\\n",
       "0  -0.01786  -0.52231  42.4262  -0.19327      -1.72598        -0.63025   \n",
       "1  13.98214   1.47769  42.4262  -0.19327       1.47402         0.94175   \n",
       "2  -7.01786  -0.52231  42.4262  -0.19327      -1.72598        -0.63025   \n",
       "3  -9.01786   0.47769  42.4262  -0.19327       1.47402        -0.07925   \n",
       "4  -1.01786  -1.52231  42.4262  -0.19327      -0.02598        -0.32325   \n",
       "\n",
       "   cons.conf.idx  euribor3m  nr.employed  \n",
       "0       -5.60211   -2.20614    -61.49658  \n",
       "1       -1.20211    1.40786     67.50342  \n",
       "2       -5.60211   -2.12214    -61.49658  \n",
       "3        4.49789    1.50886     67.50342  \n",
       "4       -1.40211    0.66386     35.20342  "
      ]
     },
     "execution_count": 916,
     "metadata": {},
     "output_type": "execute_result"
    }
   ],
   "source": [
    "from sklearn.feature_selection import VarianceThreshold\n",
    "from sklearn.preprocessing import StandardScaler\n",
    "sel = VarianceThreshold(threshold=0.5)\n",
    "mmscale = StandardScaler(with_std=False)\n",
    "train_scaled = pd.DataFrame(\n",
    "    mmscale.fit_transform( train[quant_cols] ), \n",
    "    columns= train[quant_cols].columns)\n",
    "\n",
    "sel.fit_transform(train_scaled)\n",
    " \n",
    "print sel.variances_\n",
    "\n",
    "print sel.get_support()\n",
    "\n",
    "train_scaled.head()"
   ]
  },
  {
   "cell_type": "markdown",
   "metadata": {},
   "source": [
    "Interestingly all of our quanttative features pass the variance test. Although two of them just barely, 'pdays' and 'previous'. These two must be correlated, since you can only have a previous outcome recorded if you have a valid value for pdays. In any case, the numeric value of \"999\" for pdays has no meaning."
   ]
  },
  {
   "cell_type": "code",
   "execution_count": 819,
   "metadata": {},
   "outputs": [],
   "source": [
    "train = train.drop(['pdays','poutcome','previous','campaign'], axis=1)\n",
    "quant_cols  = train.columns.values[(train.dtypes =='int64') | (train.dtypes =='float64')]\n",
    "nom_cols = train.columns.values[train.dtypes == 'O']"
   ]
  },
  {
   "cell_type": "markdown",
   "metadata": {},
   "source": [
    "Let's take the quantitative data aside for a minute, and see if any of the columns are storngly related or redundant. \n",
    "\n",
    "One way of doing this is through a simple correlation test. Pandas gives us a quick and convenient way to get a correlation coefficient (pearson, spearman) for all of the features in our dataset, vs. each other. Or something like a normalized covariance matrix.\n",
    "\n",
    "I prefer to use Spearman as the default corr. test, since it doesn't assume we're looking at linear trends, and is less sensitive to outliers."
   ]
  },
  {
   "cell_type": "code",
   "execution_count": 820,
   "metadata": {},
   "outputs": [],
   "source": [
    "train_corrmat = train[quant_cols].corr(method=\"spearman\")"
   ]
  },
  {
   "cell_type": "code",
   "execution_count": 821,
   "metadata": {},
   "outputs": [
    {
     "data": {
      "text/plain": [
       "<matplotlib.axes._subplots.AxesSubplot at 0x2b968488f1d0>"
      ]
     },
     "execution_count": 821,
     "metadata": {},
     "output_type": "execute_result"
    },
    {
     "data": {
      "image/png": "[encoded data removed]",
      "text/plain": [
       "<matplotlib.figure.Figure at 0x2b968c095350>"
      ]
     },
     "metadata": {},
     "output_type": "display_data"
    }
   ],
   "source": [
    "sb.heatmap(train_corrmat, annot=True,cbar=False, square=True)"
   ]
  },
  {
   "cell_type": "markdown",
   "metadata": {},
   "source": [
    "Here we can see something interesting: \n",
    "'euribor3m', 'nr.employed' and 'emp.var.rate' are strongly correlated.\n",
    "\n",
    "Per the data guide, these are all different ways of diagnosing the socio-economic environment, at the time of the call. They don't have anything to do with the participants themselves.\n",
    "\n",
    "Which one do we drop? While they are all \"quaterly\" average measures, only one of them gives a daily running average, and that's the 'euribor' (which affects the rate of return on term-deposits?). Perhaps this daily variation will tell us more about the specific conditions for each caller. This choice is arbitrary choice, but for now I want to simplify the dataset while developing a strategy.\n",
    "\n",
    "Also it should come as no surprise that a participants age has nothing to do with the economic conditions on the day of the call."
   ]
  },
  {
   "cell_type": "code",
   "execution_count": 822,
   "metadata": {},
   "outputs": [],
   "source": [
    "redundant_cols = [\"nr.employed\", \"emp.var.rate\"]"
   ]
  },
  {
   "cell_type": "code",
   "execution_count": 823,
   "metadata": {},
   "outputs": [],
   "source": [
    "train = train.drop(redundant_cols, axis=1)\n",
    "quant_cols  = train.columns.values[(train.dtypes =='int64') | (train.dtypes =='float64')]"
   ]
  },
  {
   "cell_type": "markdown",
   "metadata": {},
   "source": [
    "# 7) Pre-analysis: Categorical data"
   ]
  },
  {
   "cell_type": "markdown",
   "metadata": {},
   "source": [
    "Now let's take a look at some of our categorical data. For starters, just look at t he attributes that are intrinsic attribut.\n",
    "es of the participant- not the phone they used, not what the economic weather was like. This leaves education, job, and age. Well, marital status, housing, financial status can arguably be \"intrinsic\", but let's start with the basics. \n",
    "\n",
    "Perhaps we can agree that age would be the most objective, quantitatve attribute of a caller, among the data we have. Let's start there:"
   ]
  },
  {
   "cell_type": "code",
   "execution_count": 824,
   "metadata": {},
   "outputs": [
    {
     "name": "stdout",
     "output_type": "stream",
     "text": [
      "0\n",
      "0\n"
     ]
    },
    {
     "data": {
      "image/png": "[encoded data removed]",
      "text/plain": [
       "<matplotlib.figure.Figure at 0x2b968c0dba50>"
      ]
     },
     "metadata": {},
     "output_type": "display_data"
    }
   ],
   "source": [
    "# Age distributions of yesses and nos:\n",
    "sb.violinplot(x=train_labels, y=train.age)\n",
    "print len(train_labels[(train_labels==\"yes\") & (train.age > 60)])/len(train_labels[train_labels==\"yes\"])\n",
    "       \n",
    "print len(train_labels[(train_labels==\"no\") & (train.age > 60)])/len(train_labels[train_labels==\"no\"])"
   ]
  },
  {
   "cell_type": "markdown",
   "metadata": {},
   "source": [
    "Without getting to an objective measure here, it as at least visually obvious that the yesses (1s) have a thicker tail out past the retirement ages (though we can't assume yet that all these people are \"retired\" per-se)."
   ]
  },
  {
   "cell_type": "code",
   "execution_count": 825,
   "metadata": {},
   "outputs": [
    {
     "data": {
      "text/plain": [
       "<matplotlib.axes._subplots.AxesSubplot at 0x2b9684555350>"
      ]
     },
     "execution_count": 825,
     "metadata": {},
     "output_type": "execute_result"
    },
    {
     "data": {
      "image/png": "[encoded data removed]",
      "text/plain": [
       "<matplotlib.figure.Figure at 0x2b96848d10d0>"
      ]
     },
     "metadata": {},
     "output_type": "display_data"
    }
   ],
   "source": [
    "sb.distplot(train.age, kde=False)"
   ]
  },
  {
   "cell_type": "markdown",
   "metadata": {},
   "source": [
    "When we look at the distribution of ages, we see that the \"violin\" plots from before can be a bit misleading.\n",
    "\n",
    "While they seem to tell us that there is an overall trend with age,the age distribution above below tells us that there are very few participants over age 60. So while it may be accurate to say that, within those over 60, there is a trend to say yes- there is likely not a significant trend in this data for those who say yes to be over 60. \n",
    "\n",
    "We can't rule out a samping bias, but we do have to be careful about density plots. The reason for the confusion is that, for each side of the violin plots, the area is normalized to that category. So it falseley represents the groups is being roughly equal."
   ]
  },
  {
   "cell_type": "code",
   "execution_count": 826,
   "metadata": {},
   "outputs": [
    {
     "data": {
      "image/png": "[encoded data removed]",
      "text/plain": [
       "<matplotlib.figure.Figure at 0x2b968457b610>"
      ]
     },
     "metadata": {},
     "output_type": "display_data"
    }
   ],
   "source": [
    "# Education-age demographics\n",
    "g = sb.violinplot(x=train.education, y=train.age, hue=train_labels, split=True)\n",
    "tick_labels = g.set_xticklabels(g.get_xticklabels(),rotation=30)"
   ]
  },
  {
   "cell_type": "code",
   "execution_count": 827,
   "metadata": {},
   "outputs": [
    {
     "data": {
      "image/png": "[encoded data removed]",
      "text/plain": [
       "<matplotlib.figure.Figure at 0x2b968082ee10>"
      ]
     },
     "metadata": {},
     "output_type": "display_data"
    }
   ],
   "source": [
    "# Job-age demographic\n",
    "g = sb.violinplot(x=train.job, y=train.age, hue=train_labels, split=True)\n",
    "tick_labels = g.set_xticklabels(g.get_xticklabels(),rotation=30)"
   ]
  },
  {
   "cell_type": "markdown",
   "metadata": {},
   "source": [
    "The \"retired\" category is interesting. Maybe we would not be wrong in assuming our retirement-aged yessers are in-fact retired. But then again, we see an extended advanced-age-tail with the \"housemaid\" category as well, not to mention the near-60 peak within the \"unknown\" category."
   ]
  },
  {
   "cell_type": "markdown",
   "metadata": {},
   "source": [
    "### 5) Process the categorical data"
   ]
  },
  {
   "cell_type": "markdown",
   "metadata": {},
   "source": [
    "A few of our data columns lend themselves to straightforward numerical relabeling. For example, January -> 1, Monday -> 2. Not to say that these have an intrinsic quantitative meaning, but it makes sense to use the conventional integer labels rather than arbitrary ones, to maximixe readability."
   ]
  },
  {
   "cell_type": "markdown",
   "metadata": {},
   "source": [
    "Some easy things we can convert are month and day of the week to 1-12 and 1-7"
   ]
  },
  {
   "cell_type": "code",
   "execution_count": 828,
   "metadata": {},
   "outputs": [],
   "source": [
    "def relabelData(input_labels, input_frame, column):\n",
    "    \n",
    "    for i in range(0,len(input_frame[column])):\n",
    "        for j in range(0,len(input_labels)):\n",
    "            if input_frame[column].values[i] == input_labels[j]:\n",
    "                input_frame[column].values[i] = j\n",
    "                \n",
    "    return input_frame[column]\n",
    "                \n"
   ]
  },
  {
   "cell_type": "code",
   "execution_count": 829,
   "metadata": {},
   "outputs": [],
   "source": [
    "#%%timeit\n",
    "months = ['jan','feb','mar','apr','may','jun','jul','aug','sep','oct','nov','dec']  \n",
    "train.month = relabelData(months, train, \"month\")\n",
    "\n",
    "# Add one so that the month numbers correspond to conventional dates - Jan = 1, etc.\n",
    "train.month+=1"
   ]
  },
  {
   "cell_type": "code",
   "execution_count": 830,
   "metadata": {},
   "outputs": [
    {
     "data": {
      "text/html": [
       "<div>\n",
       "<table border=\"1\" class=\"dataframe\">\n",
       "  <thead>\n",
       "    <tr style=\"text-align: right;\">\n",
       "      <th></th>\n",
       "      <th>age</th>\n",
       "      <th>job</th>\n",
       "      <th>marital</th>\n",
       "      <th>education</th>\n",
       "      <th>default</th>\n",
       "      <th>housing</th>\n",
       "      <th>loan</th>\n",
       "      <th>contact</th>\n",
       "      <th>month</th>\n",
       "      <th>day_of_week</th>\n",
       "      <th>cons.price.idx</th>\n",
       "      <th>cons.conf.idx</th>\n",
       "      <th>euribor3m</th>\n",
       "    </tr>\n",
       "  </thead>\n",
       "  <tbody>\n",
       "    <tr>\n",
       "      <th>35284</th>\n",
       "      <td>39</td>\n",
       "      <td>admin.</td>\n",
       "      <td>married</td>\n",
       "      <td>university.degree</td>\n",
       "      <td>no</td>\n",
       "      <td>yes</td>\n",
       "      <td>no</td>\n",
       "      <td>cellular</td>\n",
       "      <td>5</td>\n",
       "      <td>fri</td>\n",
       "      <td>92.893</td>\n",
       "      <td>-46.2</td>\n",
       "      <td>1.250</td>\n",
       "    </tr>\n",
       "    <tr>\n",
       "      <th>8289</th>\n",
       "      <td>53</td>\n",
       "      <td>self-employed</td>\n",
       "      <td>married</td>\n",
       "      <td>university.degree</td>\n",
       "      <td>no</td>\n",
       "      <td>yes</td>\n",
       "      <td>no</td>\n",
       "      <td>telephone</td>\n",
       "      <td>6</td>\n",
       "      <td>tue</td>\n",
       "      <td>94.465</td>\n",
       "      <td>-41.8</td>\n",
       "      <td>4.864</td>\n",
       "    </tr>\n",
       "    <tr>\n",
       "      <th>31412</th>\n",
       "      <td>32</td>\n",
       "      <td>technician</td>\n",
       "      <td>single</td>\n",
       "      <td>professional.course</td>\n",
       "      <td>no</td>\n",
       "      <td>yes</td>\n",
       "      <td>no</td>\n",
       "      <td>cellular</td>\n",
       "      <td>5</td>\n",
       "      <td>wed</td>\n",
       "      <td>92.893</td>\n",
       "      <td>-46.2</td>\n",
       "      <td>1.334</td>\n",
       "    </tr>\n",
       "    <tr>\n",
       "      <th>22884</th>\n",
       "      <td>30</td>\n",
       "      <td>technician</td>\n",
       "      <td>divorced</td>\n",
       "      <td>high.school</td>\n",
       "      <td>no</td>\n",
       "      <td>no</td>\n",
       "      <td>no</td>\n",
       "      <td>cellular</td>\n",
       "      <td>8</td>\n",
       "      <td>mon</td>\n",
       "      <td>93.444</td>\n",
       "      <td>-36.1</td>\n",
       "      <td>4.965</td>\n",
       "    </tr>\n",
       "    <tr>\n",
       "      <th>25811</th>\n",
       "      <td>38</td>\n",
       "      <td>blue-collar</td>\n",
       "      <td>married</td>\n",
       "      <td>basic.6y</td>\n",
       "      <td>no</td>\n",
       "      <td>yes</td>\n",
       "      <td>no</td>\n",
       "      <td>cellular</td>\n",
       "      <td>11</td>\n",
       "      <td>wed</td>\n",
       "      <td>93.200</td>\n",
       "      <td>-42.0</td>\n",
       "      <td>4.120</td>\n",
       "    </tr>\n",
       "  </tbody>\n",
       "</table>\n",
       "</div>"
      ],
      "text/plain": [
       "       age            job   marital            education default housing loan  \\\n",
       "35284   39         admin.   married    university.degree      no     yes   no   \n",
       "8289    53  self-employed   married    university.degree      no     yes   no   \n",
       "31412   32     technician    single  professional.course      no     yes   no   \n",
       "22884   30     technician  divorced          high.school      no      no   no   \n",
       "25811   38    blue-collar   married             basic.6y      no     yes   no   \n",
       "\n",
       "         contact month day_of_week  cons.price.idx  cons.conf.idx  euribor3m  \n",
       "35284   cellular     5         fri          92.893          -46.2      1.250  \n",
       "8289   telephone     6         tue          94.465          -41.8      4.864  \n",
       "31412   cellular     5         wed          92.893          -46.2      1.334  \n",
       "22884   cellular     8         mon          93.444          -36.1      4.965  \n",
       "25811   cellular    11         wed          93.200          -42.0      4.120  "
      ]
     },
     "execution_count": 830,
     "metadata": {},
     "output_type": "execute_result"
    }
   ],
   "source": [
    "train.head()"
   ]
  },
  {
   "cell_type": "markdown",
   "metadata": {},
   "source": [
    "Re-label days of the week"
   ]
  },
  {
   "cell_type": "code",
   "execution_count": 831,
   "metadata": {},
   "outputs": [
    {
     "data": {
      "text/html": [
       "<div>\n",
       "<table border=\"1\" class=\"dataframe\">\n",
       "  <thead>\n",
       "    <tr style=\"text-align: right;\">\n",
       "      <th></th>\n",
       "      <th>age</th>\n",
       "      <th>job</th>\n",
       "      <th>marital</th>\n",
       "      <th>education</th>\n",
       "      <th>default</th>\n",
       "      <th>housing</th>\n",
       "      <th>loan</th>\n",
       "      <th>contact</th>\n",
       "      <th>month</th>\n",
       "      <th>day_of_week</th>\n",
       "      <th>cons.price.idx</th>\n",
       "      <th>cons.conf.idx</th>\n",
       "      <th>euribor3m</th>\n",
       "    </tr>\n",
       "  </thead>\n",
       "  <tbody>\n",
       "    <tr>\n",
       "      <th>35284</th>\n",
       "      <td>39</td>\n",
       "      <td>admin.</td>\n",
       "      <td>married</td>\n",
       "      <td>university.degree</td>\n",
       "      <td>no</td>\n",
       "      <td>yes</td>\n",
       "      <td>no</td>\n",
       "      <td>cellular</td>\n",
       "      <td>5</td>\n",
       "      <td>6</td>\n",
       "      <td>92.893</td>\n",
       "      <td>-46.2</td>\n",
       "      <td>1.250</td>\n",
       "    </tr>\n",
       "    <tr>\n",
       "      <th>8289</th>\n",
       "      <td>53</td>\n",
       "      <td>self-employed</td>\n",
       "      <td>married</td>\n",
       "      <td>university.degree</td>\n",
       "      <td>no</td>\n",
       "      <td>yes</td>\n",
       "      <td>no</td>\n",
       "      <td>telephone</td>\n",
       "      <td>6</td>\n",
       "      <td>3</td>\n",
       "      <td>94.465</td>\n",
       "      <td>-41.8</td>\n",
       "      <td>4.864</td>\n",
       "    </tr>\n",
       "    <tr>\n",
       "      <th>31412</th>\n",
       "      <td>32</td>\n",
       "      <td>technician</td>\n",
       "      <td>single</td>\n",
       "      <td>professional.course</td>\n",
       "      <td>no</td>\n",
       "      <td>yes</td>\n",
       "      <td>no</td>\n",
       "      <td>cellular</td>\n",
       "      <td>5</td>\n",
       "      <td>4</td>\n",
       "      <td>92.893</td>\n",
       "      <td>-46.2</td>\n",
       "      <td>1.334</td>\n",
       "    </tr>\n",
       "    <tr>\n",
       "      <th>22884</th>\n",
       "      <td>30</td>\n",
       "      <td>technician</td>\n",
       "      <td>divorced</td>\n",
       "      <td>high.school</td>\n",
       "      <td>no</td>\n",
       "      <td>no</td>\n",
       "      <td>no</td>\n",
       "      <td>cellular</td>\n",
       "      <td>8</td>\n",
       "      <td>2</td>\n",
       "      <td>93.444</td>\n",
       "      <td>-36.1</td>\n",
       "      <td>4.965</td>\n",
       "    </tr>\n",
       "    <tr>\n",
       "      <th>25811</th>\n",
       "      <td>38</td>\n",
       "      <td>blue-collar</td>\n",
       "      <td>married</td>\n",
       "      <td>basic.6y</td>\n",
       "      <td>no</td>\n",
       "      <td>yes</td>\n",
       "      <td>no</td>\n",
       "      <td>cellular</td>\n",
       "      <td>11</td>\n",
       "      <td>4</td>\n",
       "      <td>93.200</td>\n",
       "      <td>-42.0</td>\n",
       "      <td>4.120</td>\n",
       "    </tr>\n",
       "  </tbody>\n",
       "</table>\n",
       "</div>"
      ],
      "text/plain": [
       "       age            job   marital            education default housing loan  \\\n",
       "35284   39         admin.   married    university.degree      no     yes   no   \n",
       "8289    53  self-employed   married    university.degree      no     yes   no   \n",
       "31412   32     technician    single  professional.course      no     yes   no   \n",
       "22884   30     technician  divorced          high.school      no      no   no   \n",
       "25811   38    blue-collar   married             basic.6y      no     yes   no   \n",
       "\n",
       "         contact month day_of_week  cons.price.idx  cons.conf.idx  euribor3m  \n",
       "35284   cellular     5           6          92.893          -46.2      1.250  \n",
       "8289   telephone     6           3          94.465          -41.8      4.864  \n",
       "31412   cellular     5           4          92.893          -46.2      1.334  \n",
       "22884   cellular     8           2          93.444          -36.1      4.965  \n",
       "25811   cellular    11           4          93.200          -42.0      4.120  "
      ]
     },
     "execution_count": 831,
     "metadata": {},
     "output_type": "execute_result"
    }
   ],
   "source": [
    "#%%timeit \n",
    "weekdays = ['sun','mon','tue','wed','thu','fri','sat']  \n",
    "train.day_of_week = relabelData(weekdays, train,\"day_of_week\")\n",
    "\n",
    "train.day_of_week+=1\n",
    "\n",
    "train.head()"
   ]
  },
  {
   "cell_type": "markdown",
   "metadata": {},
   "source": [
    "So those were fairly straightforward, since months and days of the week have an obvious order to them. \n",
    "\n",
    "But what do we do with things like \"job\" and \"education\"? We'll have to be a bit more arbitrary about it, if we want to do any numerical analysis or apply vectorized routines to speed things up. At least Education has a kind of chronology to it- high-school before university, and so on. \n",
    "\n",
    "If we enforce an order on something like \"job\" though, we're may be implicitly making assumptions about its correlation with other data. "
   ]
  },
  {
   "cell_type": "markdown",
   "metadata": {},
   "source": [
    "The remaining columns don't have an obvious way to numberize them. We could convert education to years of education, but then what do we do with labels like 'illiterate'? We have to be careful though, not to transform the columns that we already dealt with."
   ]
  },
  {
   "cell_type": "code",
   "execution_count": 832,
   "metadata": {},
   "outputs": [
    {
     "data": {
      "text/plain": [
       "array(['job', 'marital', 'education', 'default', 'housing', 'loan',\n",
       "       'contact'], dtype=object)"
      ]
     },
     "execution_count": 832,
     "metadata": {},
     "output_type": "execute_result"
    }
   ],
   "source": [
    "encode_cols = nom_cols[(nom_cols!=\"month\") & (nom_cols!=\"day_of_week\")].copy()\n",
    "encode_cols"
   ]
  },
  {
   "cell_type": "code",
   "execution_count": 833,
   "metadata": {},
   "outputs": [
    {
     "data": {
      "text/html": [
       "<div>\n",
       "<table border=\"1\" class=\"dataframe\">\n",
       "  <thead>\n",
       "    <tr style=\"text-align: right;\">\n",
       "      <th></th>\n",
       "      <th>job</th>\n",
       "      <th>marital</th>\n",
       "      <th>education</th>\n",
       "      <th>default</th>\n",
       "      <th>housing</th>\n",
       "      <th>loan</th>\n",
       "      <th>contact</th>\n",
       "    </tr>\n",
       "  </thead>\n",
       "  <tbody>\n",
       "    <tr>\n",
       "      <th>35284</th>\n",
       "      <td>0</td>\n",
       "      <td>1</td>\n",
       "      <td>6</td>\n",
       "      <td>0</td>\n",
       "      <td>2</td>\n",
       "      <td>0</td>\n",
       "      <td>0</td>\n",
       "    </tr>\n",
       "    <tr>\n",
       "      <th>8289</th>\n",
       "      <td>6</td>\n",
       "      <td>1</td>\n",
       "      <td>6</td>\n",
       "      <td>0</td>\n",
       "      <td>2</td>\n",
       "      <td>0</td>\n",
       "      <td>1</td>\n",
       "    </tr>\n",
       "    <tr>\n",
       "      <th>31412</th>\n",
       "      <td>9</td>\n",
       "      <td>2</td>\n",
       "      <td>5</td>\n",
       "      <td>0</td>\n",
       "      <td>2</td>\n",
       "      <td>0</td>\n",
       "      <td>0</td>\n",
       "    </tr>\n",
       "    <tr>\n",
       "      <th>22884</th>\n",
       "      <td>9</td>\n",
       "      <td>0</td>\n",
       "      <td>3</td>\n",
       "      <td>0</td>\n",
       "      <td>0</td>\n",
       "      <td>0</td>\n",
       "      <td>0</td>\n",
       "    </tr>\n",
       "    <tr>\n",
       "      <th>25811</th>\n",
       "      <td>1</td>\n",
       "      <td>1</td>\n",
       "      <td>1</td>\n",
       "      <td>0</td>\n",
       "      <td>2</td>\n",
       "      <td>0</td>\n",
       "      <td>0</td>\n",
       "    </tr>\n",
       "  </tbody>\n",
       "</table>\n",
       "</div>"
      ],
      "text/plain": [
       "       job  marital  education  default  housing  loan  contact\n",
       "35284    0        1          6        0        2     0        0\n",
       "8289     6        1          6        0        2     0        1\n",
       "31412    9        2          5        0        2     0        0\n",
       "22884    9        0          3        0        0     0        0\n",
       "25811    1        1          1        0        2     0        0"
      ]
     },
     "execution_count": 833,
     "metadata": {},
     "output_type": "execute_result"
    }
   ],
   "source": [
    "from sklearn import preprocessing\n",
    "nom_encoder = preprocessing.LabelEncoder()\n",
    "train[encode_cols].apply(nom_encoder.fit_transform).head()"
   ]
  },
  {
   "cell_type": "code",
   "execution_count": 834,
   "metadata": {},
   "outputs": [
    {
     "data": {
      "text/html": [
       "<div>\n",
       "<table border=\"1\" class=\"dataframe\">\n",
       "  <thead>\n",
       "    <tr style=\"text-align: right;\">\n",
       "      <th></th>\n",
       "      <th>age</th>\n",
       "      <th>job</th>\n",
       "      <th>marital</th>\n",
       "      <th>education</th>\n",
       "      <th>default</th>\n",
       "      <th>housing</th>\n",
       "      <th>loan</th>\n",
       "      <th>contact</th>\n",
       "      <th>month</th>\n",
       "      <th>day_of_week</th>\n",
       "      <th>cons.price.idx</th>\n",
       "      <th>cons.conf.idx</th>\n",
       "      <th>euribor3m</th>\n",
       "    </tr>\n",
       "  </thead>\n",
       "  <tbody>\n",
       "    <tr>\n",
       "      <th>35284</th>\n",
       "      <td>39</td>\n",
       "      <td>0</td>\n",
       "      <td>1</td>\n",
       "      <td>6</td>\n",
       "      <td>0</td>\n",
       "      <td>2</td>\n",
       "      <td>0</td>\n",
       "      <td>0</td>\n",
       "      <td>5</td>\n",
       "      <td>6</td>\n",
       "      <td>92.893</td>\n",
       "      <td>-46.2</td>\n",
       "      <td>1.250</td>\n",
       "    </tr>\n",
       "    <tr>\n",
       "      <th>8289</th>\n",
       "      <td>53</td>\n",
       "      <td>6</td>\n",
       "      <td>1</td>\n",
       "      <td>6</td>\n",
       "      <td>0</td>\n",
       "      <td>2</td>\n",
       "      <td>0</td>\n",
       "      <td>1</td>\n",
       "      <td>6</td>\n",
       "      <td>3</td>\n",
       "      <td>94.465</td>\n",
       "      <td>-41.8</td>\n",
       "      <td>4.864</td>\n",
       "    </tr>\n",
       "    <tr>\n",
       "      <th>31412</th>\n",
       "      <td>32</td>\n",
       "      <td>9</td>\n",
       "      <td>2</td>\n",
       "      <td>5</td>\n",
       "      <td>0</td>\n",
       "      <td>2</td>\n",
       "      <td>0</td>\n",
       "      <td>0</td>\n",
       "      <td>5</td>\n",
       "      <td>4</td>\n",
       "      <td>92.893</td>\n",
       "      <td>-46.2</td>\n",
       "      <td>1.334</td>\n",
       "    </tr>\n",
       "    <tr>\n",
       "      <th>22884</th>\n",
       "      <td>30</td>\n",
       "      <td>9</td>\n",
       "      <td>0</td>\n",
       "      <td>3</td>\n",
       "      <td>0</td>\n",
       "      <td>0</td>\n",
       "      <td>0</td>\n",
       "      <td>0</td>\n",
       "      <td>8</td>\n",
       "      <td>2</td>\n",
       "      <td>93.444</td>\n",
       "      <td>-36.1</td>\n",
       "      <td>4.965</td>\n",
       "    </tr>\n",
       "    <tr>\n",
       "      <th>25811</th>\n",
       "      <td>38</td>\n",
       "      <td>1</td>\n",
       "      <td>1</td>\n",
       "      <td>1</td>\n",
       "      <td>0</td>\n",
       "      <td>2</td>\n",
       "      <td>0</td>\n",
       "      <td>0</td>\n",
       "      <td>11</td>\n",
       "      <td>4</td>\n",
       "      <td>93.200</td>\n",
       "      <td>-42.0</td>\n",
       "      <td>4.120</td>\n",
       "    </tr>\n",
       "  </tbody>\n",
       "</table>\n",
       "</div>"
      ],
      "text/plain": [
       "       age  job  marital  education  default  housing  loan  contact month  \\\n",
       "35284   39    0        1          6        0        2     0        0     5   \n",
       "8289    53    6        1          6        0        2     0        1     6   \n",
       "31412   32    9        2          5        0        2     0        0     5   \n",
       "22884   30    9        0          3        0        0     0        0     8   \n",
       "25811   38    1        1          1        0        2     0        0    11   \n",
       "\n",
       "      day_of_week  cons.price.idx  cons.conf.idx  euribor3m  \n",
       "35284           6          92.893          -46.2      1.250  \n",
       "8289            3          94.465          -41.8      4.864  \n",
       "31412           4          92.893          -46.2      1.334  \n",
       "22884           2          93.444          -36.1      4.965  \n",
       "25811           4          93.200          -42.0      4.120  "
      ]
     },
     "execution_count": 834,
     "metadata": {},
     "output_type": "execute_result"
    }
   ],
   "source": [
    "train[encode_cols] = train[encode_cols].apply(nom_encoder.fit_transform)\n",
    "train.head()"
   ]
  },
  {
   "cell_type": "code",
   "execution_count": 835,
   "metadata": {},
   "outputs": [
    {
     "name": "stdout",
     "output_type": "stream",
     "text": [
      "35284    no\n",
      "8289     no\n",
      "31412    no\n",
      "22884    no\n",
      "25811    no\n",
      "Name: y, dtype: object\n"
     ]
    },
    {
     "data": {
      "text/html": [
       "<div>\n",
       "<table border=\"1\" class=\"dataframe\">\n",
       "  <thead>\n",
       "    <tr style=\"text-align: right;\">\n",
       "      <th></th>\n",
       "      <th>y</th>\n",
       "    </tr>\n",
       "  </thead>\n",
       "  <tbody>\n",
       "    <tr>\n",
       "      <th>0</th>\n",
       "      <td>0</td>\n",
       "    </tr>\n",
       "    <tr>\n",
       "      <th>1</th>\n",
       "      <td>0</td>\n",
       "    </tr>\n",
       "    <tr>\n",
       "      <th>2</th>\n",
       "      <td>0</td>\n",
       "    </tr>\n",
       "    <tr>\n",
       "      <th>3</th>\n",
       "      <td>0</td>\n",
       "    </tr>\n",
       "    <tr>\n",
       "      <th>4</th>\n",
       "      <td>0</td>\n",
       "    </tr>\n",
       "  </tbody>\n",
       "</table>\n",
       "</div>"
      ],
      "text/plain": [
       "   y\n",
       "0  0\n",
       "1  0\n",
       "2  0\n",
       "3  0\n",
       "4  0"
      ]
     },
     "execution_count": 835,
     "metadata": {},
     "output_type": "execute_result"
    }
   ],
   "source": [
    "labels_encoder = preprocessing.LabelEncoder()\n",
    "\n",
    "print train_labels.head()\n",
    "#labels_encoder.fit_transform(train_labels)\n",
    "\n",
    "train_labels = pd.DataFrame(labels_encoder.fit_transform(train_labels), columns=[\"y\"])\n",
    "\n",
    "train_labels.head()"
   ]
  },
  {
   "cell_type": "code",
   "execution_count": 836,
   "metadata": {},
   "outputs": [
    {
     "name": "stderr",
     "output_type": "stream",
     "text": [
      "/work1/users/aaronb/Softbrary/Anaconda/lib/python2.7/site-packages/ipykernel_launcher.py:8: UserWarning: Boolean Series key will be reindexed to match DataFrame index.\n",
      "  \n"
     ]
    }
   ],
   "source": [
    "def preProcess(data, labels, drop_cols, missing_val, missing_val_cols, labels_colname = \"y\"):\n",
    "    \n",
    "    from sklearn.preprocessing import LabelEncoder\n",
    "    \n",
    "    data = data.drop(drop_cols, axis=1)\n",
    "    \n",
    "    data, labels = dropMissingData(data, labels, missing_val, missing_val_cols, labels_colname = \"y\")\n",
    "    \n",
    "    nom_cols = data.columns.values[data.dtypes == 'O']    \n",
    "    \n",
    "    nom_encoder = LabelEncoder()\n",
    "\n",
    "    data[nom_cols] = data[nom_cols].apply(nom_encoder.fit_transform)\n",
    "    \n",
    "    labels_encoder = LabelEncoder()\n",
    "    \n",
    "    labels = pd.DataFrame(labels_encoder.fit_transform(labels), columns=[\"y\"])\n",
    "    \n",
    "    #print data.head()\n",
    "    \n",
    "    return data, labels\n",
    "\n",
    "drop_cols         = ['nr.employed', 'emp.var.rate','pdays','poutcome','previous','campaign', 'duration']\n",
    "missing_val       = 'unknown'\n",
    "missing_val_cols  = ['education','marital','job','default']\n",
    "    \n",
    "test, test_labels = preProcess(test, test_labels, drop_cols, missing_val, missing_val_cols)\n",
    "#test.head()"
   ]
  },
  {
   "cell_type": "markdown",
   "metadata": {},
   "source": [
    "# Modelling experiment 1: Decision tree:\n",
    "\n",
    "While I'm not an expert in decision trees-- I have only read about them -- among the methods I find for mixed-data type machine learning, I prefer it because of the relative transparency. A decision tree produces a graoh of its steps which we can easily visualize. MCA, while seemingly straightforward if we call it \"PCA for categorical data\", is more mathematically complex to describe. Neural nets are infamously opaque.\n",
    "\n",
    "What follows is largely based on scikit learn examples, either from their online documentation or \n",
    "http://scikit-learn.org/stable/modules/tree.html"
   ]
  },
  {
   "cell_type": "code",
   "execution_count": 837,
   "metadata": {},
   "outputs": [],
   "source": [
    "from sklearn import tree\n",
    "\n",
    "model = tree.DecisionTreeClassifier(random_state=1337) # We are using classifier rather than regressor, because or goal is to \"classify\" participants into \"yes\" and \"no\" categories.\n",
    "\n",
    "model = model.fit(train,train_labels)"
   ]
  },
  {
   "cell_type": "markdown",
   "metadata": {},
   "source": [
    "Just for diagnostics, let's see how the model fits the training data. This is not a valid way to say if our model will work in reality. It just tells us if something has gone terrible wrong so far."
   ]
  },
  {
   "cell_type": "code",
   "execution_count": 838,
   "metadata": {},
   "outputs": [
    {
     "name": "stdout",
     "output_type": "stream",
     "text": [
      "Accuracy score: 0.986\n",
      "Precision score: 0.993\n",
      "Recall score: 0.893\n",
      "ROC score: 0.946\n"
     ]
    }
   ],
   "source": [
    "reportPerformance(train_labels, model.predict(train))"
   ]
  },
  {
   "cell_type": "markdown",
   "metadata": {},
   "source": [
    "To test our fitted model, we have to apply all of the above pre-processing steps to the test data as well. Let's bundle those into a function that we can use for later exeriments."
   ]
  },
  {
   "cell_type": "markdown",
   "metadata": {},
   "source": [
    "We'll also want to have a quick way to check various performanc measure of the model: Accuracy, precision, and recall. To be honest, accuracy is not really helpful in this case, since the main goal is finding the minority of cases where the result was \"yes\". \n",
    "\n",
    "A model that always predicts \"no\" would give us a misleadingly good accuracy.\n",
    "\n",
    "A model that always predicts \"yes\" (looking under every stone) would give us a perfect recall score, but in practice would waste hours of telemarketing time and resources.\n",
    "\n",
    "A 50/50 coin-flip model would give is a recall of about 50%. Same for accuracy. So we have to be careful to compare the scores together, and remember that it's entirely possible for a complex model to be less effective than asking your cat for advice."
   ]
  },
  {
   "cell_type": "code",
   "execution_count": 881,
   "metadata": {},
   "outputs": [
    {
     "name": "stdout",
     "output_type": "stream",
     "text": [
      "Accuracy score: 0.756\n",
      "Precision score: 0.205\n",
      "Recall score: 0.333\n",
      "ROC score: 0.574\n",
      "f1 score: 0.254\n"
     ]
    }
   ],
   "source": [
    "def reportPerformance(test_labels, predict_labels):\n",
    "    \n",
    "    from sklearn.metrics import accuracy_score, confusion_matrix, precision_score, recall_score, roc_auc_score, f1_score\n",
    "\n",
    "    print \"Accuracy score: {}\".format( round( \n",
    "        accuracy_score(test_labels, predict_labels)\n",
    "        ,3))\n",
    "\n",
    "    print \"Precision score: {}\".format(round( \n",
    "        precision_score(test_labels, predict_labels)\n",
    "        ,3))\n",
    "\n",
    "    print \"Recall score: {}\".format(   round( \n",
    "        recall_score(test_labels, predict_labels)\n",
    "        ,3))\n",
    "\n",
    "    print \"ROC score: {}\".format(   round( \n",
    "        roc_auc_score(test_labels, predict_labels)\n",
    "        ,3))\n",
    "    \n",
    "    print \"f1 score: {}\".format(   round( \n",
    "        f1_score(test_labels, predict_labels, pos_label=1)\n",
    "        ,3))\n",
    "    \n",
    "reportPerformance(test_labels, model.predict(test))"
   ]
  },
  {
   "cell_type": "markdown",
   "metadata": {},
   "source": [
    "It seems our model doesn't generalize very well to data it hasn't seen yet. Perhaps the tree is being over-fit to the data?\n",
    "\n"
   ]
  },
  {
   "cell_type": "markdown",
   "metadata": {},
   "source": [
    "### Experimenting with Random Forests"
   ]
  },
  {
   "cell_type": "code",
   "execution_count": 749,
   "metadata": {},
   "outputs": [
    {
     "name": "stderr",
     "output_type": "stream",
     "text": [
      "/work1/users/aaronb/Softbrary/Anaconda/lib/python2.7/site-packages/ipykernel_launcher.py:20: DataConversionWarning: A column-vector y was passed when a 1d array was expected. Please change the shape of y to (n_samples,), for example using ravel().\n"
     ]
    },
    {
     "data": {
      "image/png": "[encoded data removed]",
      "text/plain": [
       "<matplotlib.figure.Figure at 0x2b968c2069d0>"
      ]
     },
     "metadata": {},
     "output_type": "display_data"
    }
   ],
   "source": [
    "#Following example from stack exchange, for optimizing the number of estimators in the random forest\n",
    "\n",
    "import matplotlib.pyplot as plt\n",
    "\n",
    "from collections import OrderedDict\n",
    "\n",
    "from sklearn.ensemble import RandomForestClassifier\n",
    "\n",
    "\n",
    "def findMinOOB(test, test_labels, min_estimators = 10, max_estimators = 1000, random_state = 1337):\n",
    "    \n",
    "    ensemble_clfs = [ (\"RandomForestClassifier, max_features=None\",RandomForestClassifier(random_state=random_state,warm_start=True, max_features=None, oob_score=True,))]\n",
    "\n",
    "\n",
    "    error_rate = OrderedDict((label, []) for label, _ in ensemble_clfs)\n",
    "\n",
    "    for label, clf in ensemble_clfs:\n",
    "        for i in range(min_estimators, max_estimators + 1):\n",
    "            clf.set_params(n_estimators=i)\n",
    "            clf.fit(test, test_labels)\n",
    "            oob_error = 1 - clf.oob_score_\n",
    "            error_rate[label].append((i, oob_error))\n",
    "\n",
    "\n",
    "    for label, clf_err in error_rate.items():\n",
    "        xs, ys = zip(*clf_err)\n",
    "        plt.plot(xs, ys, label=label)\n",
    "\n",
    "    plt.xlim(min_estimators, max_estimators)\n",
    "    plt.xlabel(\"n_estimators\")\n",
    "    plt.ylabel(\"OOB error rate\")\n",
    "    plt.legend(loc=\"upper right\")\n",
    "    plt.show()\n",
    "    \n",
    "    #print \"Min. OOB of {} found at N_estimators = {}\".format()\n",
    "    \n",
    "findMinOOB(test, test_labels, min_estimators = 100, max_estimators = 1000, random_state = 1337)"
   ]
  },
  {
   "cell_type": "code",
   "execution_count": null,
   "metadata": {},
   "outputs": [],
   "source": [
    "from sklearn.model_selection import GridSearchCV\n",
    "\n",
    "def getRandomForestBestParams(param_grid, data, labels, scoring = 'f1', random_state=1337):\n",
    "    \n",
    "    estimator = RandomForestClassifier(random_state=random_state)\n",
    "\n",
    "    gs = GridSearchCV(estimator, \n",
    "                 param_grid,\n",
    "                 scoring = 'f1')\n",
    "\n",
    "    gs = gs.fit(train, train_labels.y)\n",
    "\n",
    "    print \"Best Parameters: {}\".format(gs.best_params_)\n",
    "\n",
    "    print \"Best Score: {}\".format(gs.best_score_)\n",
    "    \n",
    "    return gs\n",
    "\n",
    "param_grid = [\n",
    "      {'n_estimators':range(1,100,1),'max_features': range(2,8)},\n",
    "     ]\n",
    "\n",
    "gs = getRandomForestBestParams(param_grid, train, train_labels)"
   ]
  },
  {
   "cell_type": "code",
   "execution_count": 882,
   "metadata": {},
   "outputs": [
    {
     "name": "stderr",
     "output_type": "stream",
     "text": [
      "/work1/users/aaronb/Softbrary/Anaconda/lib/python2.7/site-packages/ipykernel_launcher.py:7: DataConversionWarning: A column-vector y was passed when a 1d array was expected. Please change the shape of y to (n_samples,), for example using ravel().\n",
      "  import sys\n"
     ]
    },
    {
     "name": "stdout",
     "output_type": "stream",
     "text": [
      "Accuracy score: 0.872\n",
      "Precision score: 0.47\n",
      "Recall score: 0.221\n",
      "ROC score: 0.593\n",
      "f1 score: 0.3\n"
     ]
    }
   ],
   "source": [
    "def predictWithRandomForest(train, train_labels, test, test_labels, n_estimators, max_features, random_state=1337):\n",
    "\n",
    "    model_forest = RandomForestClassifier(n_estimators=n_estimators,\n",
    "                                          random_state=random_state, \n",
    "                                           oob_score=True) # We are using classifier rather than regressor, because or goal is to \"classify\" participants into \"yes\" and \"no\" categories.\n",
    "\n",
    "    model_forest = model_forest.fit(train, train_labels)\n",
    "\n",
    "\n",
    "    predict_labels = model_forest.predict(test)\n",
    "\n",
    "    predict_labels_bin = nom_encoder.fit_transform(predict_labels)\n",
    "    test_labels_bin    = nom_encoder.fit_transform(test_labels)\n",
    "    train_labels_bin   = nom_encoder.fit_transform(train_labels)\n",
    "\n",
    "\n",
    "    reportPerformance(test_labels_bin, predict_labels_bin)\n",
    "    \n",
    "predictWithRandomForest(train, train_labels, test, test_labels, max_features=4, n_estimators=300, random_state=1337)"
   ]
  },
  {
   "cell_type": "markdown",
   "metadata": {},
   "source": [
    "Another issue is that our number of \"no\"s is way higher than the number of \"yesses\". More than simply a classification problem, this is really a recall problem. We're hunting for needles in the haystack, rather than sorting red fish from blue fish.'"
   ]
  },
  {
   "cell_type": "code",
   "execution_count": 849,
   "metadata": {},
   "outputs": [
    {
     "name": "stdout",
     "output_type": "stream",
     "text": [
      "36548\n",
      "4640\n"
     ]
    },
    {
     "data": {
      "text/plain": [
       "3526"
      ]
     },
     "execution_count": 849,
     "metadata": {},
     "output_type": "execute_result"
    }
   ],
   "source": [
    "print len(labels[labels==\"no\"])\n",
    "print len(labels[labels==\"yes\"])\n",
    "2*5289/3"
   ]
  },
  {
   "cell_type": "markdown",
   "metadata": {},
   "source": [
    "So let's take 2/3 of 5289 as the test set. But we want to try and use equal proportions of yes and no cases, so let's also take (2/3)*5289 of samples for the no cases."
   ]
  },
  {
   "cell_type": "code",
   "execution_count": 883,
   "metadata": {},
   "outputs": [
    {
     "name": "stdout",
     "output_type": "stream",
     "text": [
      "Number of 'No' Cases: 36548/41188\n",
      "Number of 'Yes' Cases: 4640/41188\n"
     ]
    }
   ],
   "source": [
    "size = labels.size\n",
    "\n",
    "split_ratio = 2/3\n",
    "\n",
    "size_yes    = len(labels[labels==\"yes\"])\n",
    "size_no     = len(labels[labels==\"no\"])\n",
    "\n",
    "\n",
    "print \"Number of 'No' Cases: {}/{}\".format(size_no,size)\n",
    "print \"Number of 'Yes' Cases: {}/{}\".format(size_yes,size)\n",
    "\n",
    "#print \"Number of 'No' Training Cases \" \n",
    "train_size_yes = (size_yes*2)//3 \n",
    "train_size_no  = train_size_yes\n",
    "\n",
    "test_size_yes = size_yes - train_size_yes\n",
    "test_size_no  = size_no  - train_size_no\n",
    "\n",
    "train_yes, test_yes, train_labels_yes, test_labels_yes   = train_test_split(data[labels==\"yes\"], labels[labels==\"yes\"], test_size=test_size_yes, random_state=1337)\n",
    "train_no , test_no,  train_labels_no,  test_labels_no    = train_test_split(data[labels==\"no\"],  labels[labels==\"no\"],  test_size=test_size_no, random_state=1337)"
   ]
  },
  {
   "cell_type": "code",
   "execution_count": 884,
   "metadata": {},
   "outputs": [
    {
     "data": {
      "text/html": [
       "<div>\n",
       "<table border=\"1\" class=\"dataframe\">\n",
       "  <thead>\n",
       "    <tr style=\"text-align: right;\">\n",
       "      <th></th>\n",
       "      <th>age</th>\n",
       "      <th>job</th>\n",
       "      <th>marital</th>\n",
       "      <th>education</th>\n",
       "      <th>default</th>\n",
       "      <th>housing</th>\n",
       "      <th>loan</th>\n",
       "      <th>contact</th>\n",
       "      <th>month</th>\n",
       "      <th>day_of_week</th>\n",
       "      <th>duration</th>\n",
       "      <th>campaign</th>\n",
       "      <th>pdays</th>\n",
       "      <th>previous</th>\n",
       "      <th>poutcome</th>\n",
       "      <th>emp.var.rate</th>\n",
       "      <th>cons.price.idx</th>\n",
       "      <th>cons.conf.idx</th>\n",
       "      <th>euribor3m</th>\n",
       "      <th>nr.employed</th>\n",
       "    </tr>\n",
       "  </thead>\n",
       "  <tbody>\n",
       "    <tr>\n",
       "      <th>0</th>\n",
       "      <td>56</td>\n",
       "      <td>housemaid</td>\n",
       "      <td>married</td>\n",
       "      <td>basic.4y</td>\n",
       "      <td>no</td>\n",
       "      <td>no</td>\n",
       "      <td>no</td>\n",
       "      <td>telephone</td>\n",
       "      <td>may</td>\n",
       "      <td>mon</td>\n",
       "      <td>261</td>\n",
       "      <td>1</td>\n",
       "      <td>999</td>\n",
       "      <td>0</td>\n",
       "      <td>nonexistent</td>\n",
       "      <td>1.1</td>\n",
       "      <td>93.994</td>\n",
       "      <td>-36.4</td>\n",
       "      <td>4.857</td>\n",
       "      <td>5191.0</td>\n",
       "    </tr>\n",
       "    <tr>\n",
       "      <th>1</th>\n",
       "      <td>57</td>\n",
       "      <td>services</td>\n",
       "      <td>married</td>\n",
       "      <td>high.school</td>\n",
       "      <td>unknown</td>\n",
       "      <td>no</td>\n",
       "      <td>no</td>\n",
       "      <td>telephone</td>\n",
       "      <td>may</td>\n",
       "      <td>mon</td>\n",
       "      <td>149</td>\n",
       "      <td>1</td>\n",
       "      <td>999</td>\n",
       "      <td>0</td>\n",
       "      <td>nonexistent</td>\n",
       "      <td>1.1</td>\n",
       "      <td>93.994</td>\n",
       "      <td>-36.4</td>\n",
       "      <td>4.857</td>\n",
       "      <td>5191.0</td>\n",
       "    </tr>\n",
       "    <tr>\n",
       "      <th>2</th>\n",
       "      <td>37</td>\n",
       "      <td>services</td>\n",
       "      <td>married</td>\n",
       "      <td>high.school</td>\n",
       "      <td>no</td>\n",
       "      <td>yes</td>\n",
       "      <td>no</td>\n",
       "      <td>telephone</td>\n",
       "      <td>may</td>\n",
       "      <td>mon</td>\n",
       "      <td>226</td>\n",
       "      <td>1</td>\n",
       "      <td>999</td>\n",
       "      <td>0</td>\n",
       "      <td>nonexistent</td>\n",
       "      <td>1.1</td>\n",
       "      <td>93.994</td>\n",
       "      <td>-36.4</td>\n",
       "      <td>4.857</td>\n",
       "      <td>5191.0</td>\n",
       "    </tr>\n",
       "    <tr>\n",
       "      <th>3</th>\n",
       "      <td>40</td>\n",
       "      <td>admin.</td>\n",
       "      <td>married</td>\n",
       "      <td>basic.6y</td>\n",
       "      <td>no</td>\n",
       "      <td>no</td>\n",
       "      <td>no</td>\n",
       "      <td>telephone</td>\n",
       "      <td>may</td>\n",
       "      <td>mon</td>\n",
       "      <td>151</td>\n",
       "      <td>1</td>\n",
       "      <td>999</td>\n",
       "      <td>0</td>\n",
       "      <td>nonexistent</td>\n",
       "      <td>1.1</td>\n",
       "      <td>93.994</td>\n",
       "      <td>-36.4</td>\n",
       "      <td>4.857</td>\n",
       "      <td>5191.0</td>\n",
       "    </tr>\n",
       "    <tr>\n",
       "      <th>4</th>\n",
       "      <td>56</td>\n",
       "      <td>services</td>\n",
       "      <td>married</td>\n",
       "      <td>high.school</td>\n",
       "      <td>no</td>\n",
       "      <td>no</td>\n",
       "      <td>yes</td>\n",
       "      <td>telephone</td>\n",
       "      <td>may</td>\n",
       "      <td>mon</td>\n",
       "      <td>307</td>\n",
       "      <td>1</td>\n",
       "      <td>999</td>\n",
       "      <td>0</td>\n",
       "      <td>nonexistent</td>\n",
       "      <td>1.1</td>\n",
       "      <td>93.994</td>\n",
       "      <td>-36.4</td>\n",
       "      <td>4.857</td>\n",
       "      <td>5191.0</td>\n",
       "    </tr>\n",
       "  </tbody>\n",
       "</table>\n",
       "</div>"
      ],
      "text/plain": [
       "   age        job  marital    education  default housing loan    contact  \\\n",
       "0   56  housemaid  married     basic.4y       no      no   no  telephone   \n",
       "1   57   services  married  high.school  unknown      no   no  telephone   \n",
       "2   37   services  married  high.school       no     yes   no  telephone   \n",
       "3   40     admin.  married     basic.6y       no      no   no  telephone   \n",
       "4   56   services  married  high.school       no      no  yes  telephone   \n",
       "\n",
       "  month day_of_week  duration  campaign  pdays  previous     poutcome  \\\n",
       "0   may         mon       261         1    999         0  nonexistent   \n",
       "1   may         mon       149         1    999         0  nonexistent   \n",
       "2   may         mon       226         1    999         0  nonexistent   \n",
       "3   may         mon       151         1    999         0  nonexistent   \n",
       "4   may         mon       307         1    999         0  nonexistent   \n",
       "\n",
       "   emp.var.rate  cons.price.idx  cons.conf.idx  euribor3m  nr.employed  \n",
       "0           1.1          93.994          -36.4      4.857       5191.0  \n",
       "1           1.1          93.994          -36.4      4.857       5191.0  \n",
       "2           1.1          93.994          -36.4      4.857       5191.0  \n",
       "3           1.1          93.994          -36.4      4.857       5191.0  \n",
       "4           1.1          93.994          -36.4      4.857       5191.0  "
      ]
     },
     "execution_count": 884,
     "metadata": {},
     "output_type": "execute_result"
    }
   ],
   "source": [
    "data.head()"
   ]
  },
  {
   "cell_type": "code",
   "execution_count": 885,
   "metadata": {},
   "outputs": [
    {
     "data": {
      "text/html": [
       "<div>\n",
       "<table border=\"1\" class=\"dataframe\">\n",
       "  <thead>\n",
       "    <tr style=\"text-align: right;\">\n",
       "      <th></th>\n",
       "      <th>age</th>\n",
       "      <th>job</th>\n",
       "      <th>marital</th>\n",
       "      <th>education</th>\n",
       "      <th>default</th>\n",
       "      <th>housing</th>\n",
       "      <th>loan</th>\n",
       "      <th>contact</th>\n",
       "      <th>month</th>\n",
       "      <th>day_of_week</th>\n",
       "      <th>duration</th>\n",
       "      <th>campaign</th>\n",
       "      <th>pdays</th>\n",
       "      <th>previous</th>\n",
       "      <th>poutcome</th>\n",
       "      <th>emp.var.rate</th>\n",
       "      <th>cons.price.idx</th>\n",
       "      <th>cons.conf.idx</th>\n",
       "      <th>euribor3m</th>\n",
       "      <th>nr.employed</th>\n",
       "    </tr>\n",
       "  </thead>\n",
       "  <tbody>\n",
       "    <tr>\n",
       "      <th>8866</th>\n",
       "      <td>28</td>\n",
       "      <td>technician</td>\n",
       "      <td>single</td>\n",
       "      <td>professional.course</td>\n",
       "      <td>no</td>\n",
       "      <td>no</td>\n",
       "      <td>no</td>\n",
       "      <td>telephone</td>\n",
       "      <td>jun</td>\n",
       "      <td>thu</td>\n",
       "      <td>508</td>\n",
       "      <td>2</td>\n",
       "      <td>999</td>\n",
       "      <td>0</td>\n",
       "      <td>nonexistent</td>\n",
       "      <td>1.4</td>\n",
       "      <td>94.465</td>\n",
       "      <td>-41.8</td>\n",
       "      <td>4.866</td>\n",
       "      <td>5228.1</td>\n",
       "    </tr>\n",
       "    <tr>\n",
       "      <th>20238</th>\n",
       "      <td>34</td>\n",
       "      <td>admin.</td>\n",
       "      <td>married</td>\n",
       "      <td>university.degree</td>\n",
       "      <td>no</td>\n",
       "      <td>no</td>\n",
       "      <td>no</td>\n",
       "      <td>cellular</td>\n",
       "      <td>aug</td>\n",
       "      <td>mon</td>\n",
       "      <td>1238</td>\n",
       "      <td>1</td>\n",
       "      <td>999</td>\n",
       "      <td>0</td>\n",
       "      <td>nonexistent</td>\n",
       "      <td>1.4</td>\n",
       "      <td>93.444</td>\n",
       "      <td>-36.1</td>\n",
       "      <td>4.965</td>\n",
       "      <td>5228.1</td>\n",
       "    </tr>\n",
       "    <tr>\n",
       "      <th>30253</th>\n",
       "      <td>48</td>\n",
       "      <td>technician</td>\n",
       "      <td>divorced</td>\n",
       "      <td>high.school</td>\n",
       "      <td>no</td>\n",
       "      <td>yes</td>\n",
       "      <td>no</td>\n",
       "      <td>cellular</td>\n",
       "      <td>apr</td>\n",
       "      <td>thu</td>\n",
       "      <td>400</td>\n",
       "      <td>1</td>\n",
       "      <td>999</td>\n",
       "      <td>1</td>\n",
       "      <td>failure</td>\n",
       "      <td>-1.8</td>\n",
       "      <td>93.075</td>\n",
       "      <td>-47.1</td>\n",
       "      <td>1.365</td>\n",
       "      <td>5099.1</td>\n",
       "    </tr>\n",
       "    <tr>\n",
       "      <th>30441</th>\n",
       "      <td>39</td>\n",
       "      <td>admin.</td>\n",
       "      <td>married</td>\n",
       "      <td>high.school</td>\n",
       "      <td>no</td>\n",
       "      <td>yes</td>\n",
       "      <td>no</td>\n",
       "      <td>cellular</td>\n",
       "      <td>may</td>\n",
       "      <td>mon</td>\n",
       "      <td>303</td>\n",
       "      <td>3</td>\n",
       "      <td>999</td>\n",
       "      <td>0</td>\n",
       "      <td>nonexistent</td>\n",
       "      <td>-1.8</td>\n",
       "      <td>92.893</td>\n",
       "      <td>-46.2</td>\n",
       "      <td>1.354</td>\n",
       "      <td>5099.1</td>\n",
       "    </tr>\n",
       "    <tr>\n",
       "      <th>31011</th>\n",
       "      <td>45</td>\n",
       "      <td>blue-collar</td>\n",
       "      <td>married</td>\n",
       "      <td>basic.9y</td>\n",
       "      <td>no</td>\n",
       "      <td>yes</td>\n",
       "      <td>no</td>\n",
       "      <td>cellular</td>\n",
       "      <td>may</td>\n",
       "      <td>tue</td>\n",
       "      <td>672</td>\n",
       "      <td>2</td>\n",
       "      <td>999</td>\n",
       "      <td>0</td>\n",
       "      <td>nonexistent</td>\n",
       "      <td>-1.8</td>\n",
       "      <td>92.893</td>\n",
       "      <td>-46.2</td>\n",
       "      <td>1.344</td>\n",
       "      <td>5099.1</td>\n",
       "    </tr>\n",
       "  </tbody>\n",
       "</table>\n",
       "</div>"
      ],
      "text/plain": [
       "       age          job   marital            education default housing loan  \\\n",
       "8866    28   technician    single  professional.course      no      no   no   \n",
       "20238   34       admin.   married    university.degree      no      no   no   \n",
       "30253   48   technician  divorced          high.school      no     yes   no   \n",
       "30441   39       admin.   married          high.school      no     yes   no   \n",
       "31011   45  blue-collar   married             basic.9y      no     yes   no   \n",
       "\n",
       "         contact month day_of_week  duration  campaign  pdays  previous  \\\n",
       "8866   telephone   jun         thu       508         2    999         0   \n",
       "20238   cellular   aug         mon      1238         1    999         0   \n",
       "30253   cellular   apr         thu       400         1    999         1   \n",
       "30441   cellular   may         mon       303         3    999         0   \n",
       "31011   cellular   may         tue       672         2    999         0   \n",
       "\n",
       "          poutcome  emp.var.rate  cons.price.idx  cons.conf.idx  euribor3m  \\\n",
       "8866   nonexistent           1.4          94.465          -41.8      4.866   \n",
       "20238  nonexistent           1.4          93.444          -36.1      4.965   \n",
       "30253      failure          -1.8          93.075          -47.1      1.365   \n",
       "30441  nonexistent          -1.8          92.893          -46.2      1.354   \n",
       "31011  nonexistent          -1.8          92.893          -46.2      1.344   \n",
       "\n",
       "       nr.employed  \n",
       "8866        5228.1  \n",
       "20238       5228.1  \n",
       "30253       5099.1  \n",
       "30441       5099.1  \n",
       "31011       5099.1  "
      ]
     },
     "execution_count": 885,
     "metadata": {},
     "output_type": "execute_result"
    }
   ],
   "source": [
    "train_yes.head()"
   ]
  },
  {
   "cell_type": "code",
   "execution_count": 886,
   "metadata": {},
   "outputs": [],
   "source": [
    "from sklearn.utils import shuffle\n",
    "\n",
    "def shuffleTogether(data_yes, data_no, labels_yes, labels_no, random_state = 1337, labels_col = \"y\"):\n",
    "    \n",
    "    data   = data_yes.append(data_no)\n",
    "    labels = labels_yes.append(labels_no)\n",
    "    \n",
    "    data = data.join(labels)\n",
    "    \n",
    "    data = shuffle(data, random_state = random_state)\n",
    "    \n",
    "    labels = data[labels_col]\n",
    "    \n",
    "    data   = data.drop(labels_col, axis=1)\n",
    "    \n",
    "    return data, labels\n",
    "\n",
    "train_under, train_labels_under = shuffleTogether(train_yes, train_no, train_labels_yes, train_labels_no)\n",
    "test_under, test_labels_under   = shuffleTogether(test_yes,  test_no, test_labels_yes, test_labels_no)"
   ]
  },
  {
   "cell_type": "code",
   "execution_count": 887,
   "metadata": {},
   "outputs": [
    {
     "data": {
      "text/html": [
       "<div>\n",
       "<table border=\"1\" class=\"dataframe\">\n",
       "  <thead>\n",
       "    <tr style=\"text-align: right;\">\n",
       "      <th></th>\n",
       "      <th>age</th>\n",
       "      <th>job</th>\n",
       "      <th>marital</th>\n",
       "      <th>education</th>\n",
       "      <th>default</th>\n",
       "      <th>housing</th>\n",
       "      <th>loan</th>\n",
       "      <th>contact</th>\n",
       "      <th>month</th>\n",
       "      <th>day_of_week</th>\n",
       "      <th>duration</th>\n",
       "      <th>campaign</th>\n",
       "      <th>pdays</th>\n",
       "      <th>previous</th>\n",
       "      <th>poutcome</th>\n",
       "      <th>emp.var.rate</th>\n",
       "      <th>cons.price.idx</th>\n",
       "      <th>cons.conf.idx</th>\n",
       "      <th>euribor3m</th>\n",
       "      <th>nr.employed</th>\n",
       "    </tr>\n",
       "  </thead>\n",
       "  <tbody>\n",
       "    <tr>\n",
       "      <th>8522</th>\n",
       "      <td>31</td>\n",
       "      <td>blue-collar</td>\n",
       "      <td>married</td>\n",
       "      <td>basic.6y</td>\n",
       "      <td>no</td>\n",
       "      <td>yes</td>\n",
       "      <td>no</td>\n",
       "      <td>telephone</td>\n",
       "      <td>jun</td>\n",
       "      <td>wed</td>\n",
       "      <td>406</td>\n",
       "      <td>2</td>\n",
       "      <td>999</td>\n",
       "      <td>0</td>\n",
       "      <td>nonexistent</td>\n",
       "      <td>1.4</td>\n",
       "      <td>94.465</td>\n",
       "      <td>-41.8</td>\n",
       "      <td>4.864</td>\n",
       "      <td>5228.1</td>\n",
       "    </tr>\n",
       "    <tr>\n",
       "      <th>19967</th>\n",
       "      <td>50</td>\n",
       "      <td>blue-collar</td>\n",
       "      <td>married</td>\n",
       "      <td>basic.6y</td>\n",
       "      <td>no</td>\n",
       "      <td>no</td>\n",
       "      <td>no</td>\n",
       "      <td>cellular</td>\n",
       "      <td>aug</td>\n",
       "      <td>fri</td>\n",
       "      <td>733</td>\n",
       "      <td>3</td>\n",
       "      <td>999</td>\n",
       "      <td>0</td>\n",
       "      <td>nonexistent</td>\n",
       "      <td>1.4</td>\n",
       "      <td>93.444</td>\n",
       "      <td>-36.1</td>\n",
       "      <td>4.966</td>\n",
       "      <td>5228.1</td>\n",
       "    </tr>\n",
       "    <tr>\n",
       "      <th>39495</th>\n",
       "      <td>77</td>\n",
       "      <td>retired</td>\n",
       "      <td>married</td>\n",
       "      <td>high.school</td>\n",
       "      <td>no</td>\n",
       "      <td>yes</td>\n",
       "      <td>no</td>\n",
       "      <td>cellular</td>\n",
       "      <td>apr</td>\n",
       "      <td>thu</td>\n",
       "      <td>165</td>\n",
       "      <td>7</td>\n",
       "      <td>999</td>\n",
       "      <td>0</td>\n",
       "      <td>nonexistent</td>\n",
       "      <td>-1.8</td>\n",
       "      <td>93.749</td>\n",
       "      <td>-34.6</td>\n",
       "      <td>0.644</td>\n",
       "      <td>5008.7</td>\n",
       "    </tr>\n",
       "    <tr>\n",
       "      <th>37878</th>\n",
       "      <td>53</td>\n",
       "      <td>admin.</td>\n",
       "      <td>married</td>\n",
       "      <td>university.degree</td>\n",
       "      <td>no</td>\n",
       "      <td>yes</td>\n",
       "      <td>no</td>\n",
       "      <td>cellular</td>\n",
       "      <td>aug</td>\n",
       "      <td>mon</td>\n",
       "      <td>267</td>\n",
       "      <td>1</td>\n",
       "      <td>999</td>\n",
       "      <td>1</td>\n",
       "      <td>failure</td>\n",
       "      <td>-2.9</td>\n",
       "      <td>92.201</td>\n",
       "      <td>-31.4</td>\n",
       "      <td>0.821</td>\n",
       "      <td>5076.2</td>\n",
       "    </tr>\n",
       "    <tr>\n",
       "      <th>29148</th>\n",
       "      <td>53</td>\n",
       "      <td>admin.</td>\n",
       "      <td>married</td>\n",
       "      <td>basic.6y</td>\n",
       "      <td>no</td>\n",
       "      <td>yes</td>\n",
       "      <td>no</td>\n",
       "      <td>cellular</td>\n",
       "      <td>apr</td>\n",
       "      <td>fri</td>\n",
       "      <td>100</td>\n",
       "      <td>1</td>\n",
       "      <td>999</td>\n",
       "      <td>0</td>\n",
       "      <td>nonexistent</td>\n",
       "      <td>-1.8</td>\n",
       "      <td>93.075</td>\n",
       "      <td>-47.1</td>\n",
       "      <td>1.405</td>\n",
       "      <td>5099.1</td>\n",
       "    </tr>\n",
       "  </tbody>\n",
       "</table>\n",
       "</div>"
      ],
      "text/plain": [
       "       age          job  marital          education default housing loan  \\\n",
       "8522    31  blue-collar  married           basic.6y      no     yes   no   \n",
       "19967   50  blue-collar  married           basic.6y      no      no   no   \n",
       "39495   77      retired  married        high.school      no     yes   no   \n",
       "37878   53       admin.  married  university.degree      no     yes   no   \n",
       "29148   53       admin.  married           basic.6y      no     yes   no   \n",
       "\n",
       "         contact month day_of_week  duration  campaign  pdays  previous  \\\n",
       "8522   telephone   jun         wed       406         2    999         0   \n",
       "19967   cellular   aug         fri       733         3    999         0   \n",
       "39495   cellular   apr         thu       165         7    999         0   \n",
       "37878   cellular   aug         mon       267         1    999         1   \n",
       "29148   cellular   apr         fri       100         1    999         0   \n",
       "\n",
       "          poutcome  emp.var.rate  cons.price.idx  cons.conf.idx  euribor3m  \\\n",
       "8522   nonexistent           1.4          94.465          -41.8      4.864   \n",
       "19967  nonexistent           1.4          93.444          -36.1      4.966   \n",
       "39495  nonexistent          -1.8          93.749          -34.6      0.644   \n",
       "37878      failure          -2.9          92.201          -31.4      0.821   \n",
       "29148  nonexistent          -1.8          93.075          -47.1      1.405   \n",
       "\n",
       "       nr.employed  \n",
       "8522        5228.1  \n",
       "19967       5228.1  \n",
       "39495       5008.7  \n",
       "37878       5076.2  \n",
       "29148       5099.1  "
      ]
     },
     "execution_count": 887,
     "metadata": {},
     "output_type": "execute_result"
    }
   ],
   "source": [
    "train_under.head()"
   ]
  },
  {
   "cell_type": "code",
   "execution_count": 888,
   "metadata": {},
   "outputs": [
    {
     "name": "stderr",
     "output_type": "stream",
     "text": [
      "/work1/users/aaronb/Softbrary/Anaconda/lib/python2.7/site-packages/ipykernel_launcher.py:8: UserWarning: Boolean Series key will be reindexed to match DataFrame index.\n",
      "  \n"
     ]
    }
   ],
   "source": [
    "train_under, train_labels_under  = preProcess(train_under, train_labels_under, drop_cols, missing_val, missing_val_cols)\n",
    "test_under,  test_labels_under   = preProcess(test_under,  test_labels_under,  drop_cols, missing_val, missing_val_cols)"
   ]
  },
  {
   "cell_type": "code",
   "execution_count": 862,
   "metadata": {},
   "outputs": [
    {
     "name": "stderr",
     "output_type": "stream",
     "text": [
      "/work1/users/aaronb/Softbrary/Anaconda/lib/python2.7/site-packages/ipykernel_launcher.py:20: DataConversionWarning: A column-vector y was passed when a 1d array was expected. Please change the shape of y to (n_samples,), for example using ravel().\n"
     ]
    },
    {
     "data": {
      "image/png": "[encoded data removed]",
      "text/plain": [
       "<matplotlib.figure.Figure at 0x2b9680ad1650>"
      ]
     },
     "metadata": {},
     "output_type": "display_data"
    }
   ],
   "source": [
    "findMinOOB(train_under, train_labels_under, min_estimators = 100, max_estimators = 1000, random_state = 1337)"
   ]
  },
  {
   "cell_type": "code",
   "execution_count": 889,
   "metadata": {},
   "outputs": [
    {
     "name": "stderr",
     "output_type": "stream",
     "text": [
      "/work1/users/aaronb/Softbrary/Anaconda/lib/python2.7/site-packages/ipykernel_launcher.py:7: DataConversionWarning: A column-vector y was passed when a 1d array was expected. Please change the shape of y to (n_samples,), for example using ravel().\n",
      "  import sys\n"
     ]
    },
    {
     "name": "stdout",
     "output_type": "stream",
     "text": [
      "Accuracy score: 0.736\n",
      "Precision score: 0.126\n",
      "Recall score: 0.706\n",
      "ROC score: 0.722\n",
      "f1 score: 0.213\n"
     ]
    }
   ],
   "source": [
    "from sklearn.ensemble import RandomForestClassifier\n",
    "\n",
    "model_forest = RandomForestClassifier(n_estimators=1000,\n",
    "                                      random_state=1337, \n",
    "                                      oob_score=True) # We are using classifier rather than regressor, because or goal is to \"classify\" participants into \"yes\" and \"no\" categories.\n",
    "\n",
    "model_forest = model_forest.fit(train_under, train_labels_under)\n",
    "\n",
    "\n",
    "predict_labels_under = model_forest.predict(test_under)\n",
    "\n",
    "reportPerformance(test_labels_under, predict_labels_under)"
   ]
  },
  {
   "cell_type": "code",
   "execution_count": null,
   "metadata": {},
   "outputs": [],
   "source": []
  },
  {
   "cell_type": "markdown",
   "metadata": {},
   "source": [
    "# Experimenting with MCA"
   ]
  },
  {
   "cell_type": "markdown",
   "metadata": {},
   "source": [
    "Another option, for dealing with categorical labels, is Multiple Correspondance Analysis. This seems to be something of a categorical analog of Principal Component Analysis."
   ]
  },
  {
   "cell_type": "code",
   "execution_count": 875,
   "metadata": {},
   "outputs": [],
   "source": [
    "import mca\n",
    "import pandas as pd\n",
    "import numpy as np"
   ]
  },
  {
   "cell_type": "code",
   "execution_count": 876,
   "metadata": {},
   "outputs": [],
   "source": [
    "np.set_printoptions(formatter={'float': '{: 0.4f}'.format})\n",
    "pd.set_option('display.precision', 5)\n",
    "pd.set_option('display.max_columns', 25)"
   ]
  },
  {
   "cell_type": "code",
   "execution_count": 877,
   "metadata": {},
   "outputs": [
    {
     "ename": "TypeError",
     "evalue": "No loop matching the specified signature and casting\nwas found for ufunc svd_n_f",
     "output_type": "error",
     "traceback": [
      "\u001b[0;31m---------------------------------------------------------------------------\u001b[0m",
      "\u001b[0;31mTypeError\u001b[0m                                 Traceback (most recent call last)",
      "\u001b[0;32m<ipython-input-877-d540cec9f648>\u001b[0m in \u001b[0;36m<module>\u001b[0;34m()\u001b[0m\n\u001b[1;32m      1\u001b[0m \u001b[0mnom_cols\u001b[0m \u001b[0;34m=\u001b[0m \u001b[0mtrain\u001b[0m\u001b[0;34m.\u001b[0m\u001b[0mcolumns\u001b[0m\u001b[0;34m.\u001b[0m\u001b[0mvalues\u001b[0m\u001b[0;34m[\u001b[0m\u001b[0mtrain\u001b[0m\u001b[0;34m.\u001b[0m\u001b[0mdtypes\u001b[0m \u001b[0;34m==\u001b[0m \u001b[0;34m'O'\u001b[0m\u001b[0;34m]\u001b[0m\u001b[0;34m\u001b[0m\u001b[0m\n\u001b[1;32m      2\u001b[0m \u001b[0mncols\u001b[0m   \u001b[0;34m=\u001b[0m \u001b[0mlen\u001b[0m\u001b[0;34m(\u001b[0m\u001b[0mtrain\u001b[0m\u001b[0;34m[\u001b[0m\u001b[0mnom_cols\u001b[0m\u001b[0;34m]\u001b[0m\u001b[0;34m.\u001b[0m\u001b[0mcolumns\u001b[0m\u001b[0;34m)\u001b[0m\u001b[0;34m\u001b[0m\u001b[0m\n\u001b[0;32m----> 3\u001b[0;31m \u001b[0mmca_ben\u001b[0m \u001b[0;34m=\u001b[0m \u001b[0mmca\u001b[0m\u001b[0;34m.\u001b[0m\u001b[0mMCA\u001b[0m\u001b[0;34m(\u001b[0m\u001b[0mtrain\u001b[0m\u001b[0;34m[\u001b[0m\u001b[0mnom_cols\u001b[0m\u001b[0;34m]\u001b[0m\u001b[0;34m,\u001b[0m \u001b[0mncols\u001b[0m\u001b[0;34m=\u001b[0m\u001b[0mncols\u001b[0m\u001b[0;34m)\u001b[0m\u001b[0;34m\u001b[0m\u001b[0m\n\u001b[0m\u001b[1;32m      4\u001b[0m \u001b[0mmca_ind\u001b[0m \u001b[0;34m=\u001b[0m \u001b[0mmca\u001b[0m\u001b[0;34m.\u001b[0m\u001b[0mMCA\u001b[0m\u001b[0;34m(\u001b[0m\u001b[0mtrain\u001b[0m\u001b[0;34m[\u001b[0m\u001b[0mnom_cols\u001b[0m\u001b[0;34m]\u001b[0m\u001b[0;34m,\u001b[0m \u001b[0mncols\u001b[0m\u001b[0;34m=\u001b[0m\u001b[0mncols\u001b[0m\u001b[0;34m,\u001b[0m \u001b[0mbenzecri\u001b[0m\u001b[0;34m=\u001b[0m\u001b[0mFalse\u001b[0m\u001b[0;34m)\u001b[0m\u001b[0;34m\u001b[0m\u001b[0m\n\u001b[1;32m      5\u001b[0m \u001b[0;34m\u001b[0m\u001b[0m\n",
      "\u001b[0;32m/home/aaronb/.local/lib/python2.7/site-packages/mca.pyc\u001b[0m in \u001b[0;36m__init__\u001b[0;34m(self, DF, cols, ncols, benzecri, TOL, sparse, approximate)\u001b[0m\n\u001b[1;32m     78\u001b[0m                 \u001b[0;32melse\u001b[0m\u001b[0;34m:\u001b[0m\u001b[0;34m\u001b[0m\u001b[0m\n\u001b[1;32m     79\u001b[0m                         \u001b[0mself\u001b[0m\u001b[0;34m.\u001b[0m\u001b[0m_numitems\u001b[0m \u001b[0;34m=\u001b[0m \u001b[0mlen\u001b[0m\u001b[0;34m(\u001b[0m\u001b[0mDF\u001b[0m\u001b[0;34m)\u001b[0m\u001b[0;34m\u001b[0m\u001b[0m\n\u001b[0;32m---> 80\u001b[0;31m                         \u001b[0mself\u001b[0m\u001b[0;34m.\u001b[0m\u001b[0mP\u001b[0m\u001b[0;34m,\u001b[0m \u001b[0mself\u001b[0m\u001b[0;34m.\u001b[0m\u001b[0ms\u001b[0m\u001b[0;34m,\u001b[0m \u001b[0mself\u001b[0m\u001b[0;34m.\u001b[0m\u001b[0mQ\u001b[0m \u001b[0;34m=\u001b[0m \u001b[0msvd\u001b[0m\u001b[0;34m(\u001b[0m\u001b[0mproduct\u001b[0m\u001b[0;34m)\u001b[0m\u001b[0;34m\u001b[0m\u001b[0m\n\u001b[0m\u001b[1;32m     81\u001b[0m \u001b[0;34m\u001b[0m\u001b[0m\n\u001b[1;32m     82\u001b[0m                 \u001b[0mself\u001b[0m\u001b[0;34m.\u001b[0m\u001b[0mE\u001b[0m \u001b[0;34m=\u001b[0m \u001b[0mNone\u001b[0m\u001b[0;34m\u001b[0m\u001b[0m\n",
      "\u001b[0;32m/work1/users/aaronb/Softbrary/Anaconda/lib/python2.7/site-packages/numpy/linalg/linalg.pyc\u001b[0m in \u001b[0;36msvd\u001b[0;34m(a, full_matrices, compute_uv)\u001b[0m\n\u001b[1;32m   1387\u001b[0m \u001b[0;34m\u001b[0m\u001b[0m\n\u001b[1;32m   1388\u001b[0m         \u001b[0msignature\u001b[0m \u001b[0;34m=\u001b[0m \u001b[0;34m'D->DdD'\u001b[0m \u001b[0;32mif\u001b[0m \u001b[0misComplexType\u001b[0m\u001b[0;34m(\u001b[0m\u001b[0mt\u001b[0m\u001b[0;34m)\u001b[0m \u001b[0;32melse\u001b[0m \u001b[0;34m'd->ddd'\u001b[0m\u001b[0;34m\u001b[0m\u001b[0m\n\u001b[0;32m-> 1389\u001b[0;31m         \u001b[0mu\u001b[0m\u001b[0;34m,\u001b[0m \u001b[0ms\u001b[0m\u001b[0;34m,\u001b[0m \u001b[0mvt\u001b[0m \u001b[0;34m=\u001b[0m \u001b[0mgufunc\u001b[0m\u001b[0;34m(\u001b[0m\u001b[0ma\u001b[0m\u001b[0;34m,\u001b[0m \u001b[0msignature\u001b[0m\u001b[0;34m=\u001b[0m\u001b[0msignature\u001b[0m\u001b[0;34m,\u001b[0m \u001b[0mextobj\u001b[0m\u001b[0;34m=\u001b[0m\u001b[0mextobj\u001b[0m\u001b[0;34m)\u001b[0m\u001b[0;34m\u001b[0m\u001b[0m\n\u001b[0m\u001b[1;32m   1390\u001b[0m         \u001b[0mu\u001b[0m \u001b[0;34m=\u001b[0m \u001b[0mu\u001b[0m\u001b[0;34m.\u001b[0m\u001b[0mastype\u001b[0m\u001b[0;34m(\u001b[0m\u001b[0mresult_t\u001b[0m\u001b[0;34m,\u001b[0m \u001b[0mcopy\u001b[0m\u001b[0;34m=\u001b[0m\u001b[0mFalse\u001b[0m\u001b[0;34m)\u001b[0m\u001b[0;34m\u001b[0m\u001b[0m\n\u001b[1;32m   1391\u001b[0m         \u001b[0ms\u001b[0m \u001b[0;34m=\u001b[0m \u001b[0ms\u001b[0m\u001b[0;34m.\u001b[0m\u001b[0mastype\u001b[0m\u001b[0;34m(\u001b[0m\u001b[0m_realType\u001b[0m\u001b[0;34m(\u001b[0m\u001b[0mresult_t\u001b[0m\u001b[0;34m)\u001b[0m\u001b[0;34m,\u001b[0m \u001b[0mcopy\u001b[0m\u001b[0;34m=\u001b[0m\u001b[0mFalse\u001b[0m\u001b[0;34m)\u001b[0m\u001b[0;34m\u001b[0m\u001b[0m\n",
      "\u001b[0;31mTypeError\u001b[0m: No loop matching the specified signature and casting\nwas found for ufunc svd_n_f"
     ]
    }
   ],
   "source": [
    "nom_cols = train.columns.values[train.dtypes == 'O']\n",
    "ncols   = len(train[nom_cols].columns)\n",
    "mca_ben = mca.MCA(train[nom_cols], ncols=ncols)\n",
    "mca_ind = mca.MCA(train[nom_cols], ncols=ncols, benzecri=False)\n",
    "\n",
    "print mca.MCA.__doc__\n"
   ]
  },
  {
   "cell_type": "code",
   "execution_count": null,
   "metadata": {},
   "outputs": [],
   "source": [
    "mca_ind.L\n",
    "mca_ind.expl_var(greenacre=False, N=2)\n",
    "\n"
   ]
  },
  {
   "cell_type": "code",
   "execution_count": null,
   "metadata": {},
   "outputs": [],
   "source": [
    "data = np.array([mca_ind.L[:2], \n",
    "                 mca_ind.expl_var(greenacre=False, N=2) * 100]).T\n",
    "df = pd.DataFrame(data=data, columns=['cλ','%c'], index=range(1,3))\n",
    "df"
   ]
  },
  {
   "cell_type": "code",
   "execution_count": null,
   "metadata": {},
   "outputs": [],
   "source": [
    "data = np.array([mca_ind.L[:2], \n",
    "                 mca_ind.expl_var(greenacre=False, N=2) * 100]).T\n",
    "df = pd.DataFrame(data=data, columns=['cλ','%c'], index=range(1,3))\n",
    "df"
   ]
  },
  {
   "cell_type": "code",
   "execution_count": null,
   "metadata": {},
   "outputs": [],
   "source": [
    "fs, cos, cont = 'Factor score','Squared cosines', 'Contributions x 1000'\n",
    "table3 = pd.DataFrame(columns=train[nom_cols].index, index=pd.MultiIndex\n",
    "                      .from_product([[fs, cos, cont], range(1, 3)]))\n",
    "\n",
    "table3.loc[fs,    :] = mca_ind.fs_r(N=2).T\n",
    "table3.loc[cos,   :] = mca_ind.cos_r(N=2).T\n",
    "table3.loc[cont,  :] = mca_ind.cont_r(N=2).T * 1000\n",
    "#table3.loc[fs, 'W?'] = mca_ben.fs_r_sup(pd.DataFrame([i_sup]), N=2)[0]\n",
    "\n",
    "np.round(table3.astype(float), 2)"
   ]
  },
  {
   "cell_type": "code",
   "execution_count": null,
   "metadata": {},
   "outputs": [],
   "source": [
    "table4 = pd.DataFrame(columns=train[nom_cols].columns, index=pd.MultiIndex\n",
    "                      .from_product([[fs, cos, cont], range(1, 3)]))\n",
    "table4.loc[fs,  :] = mca_ind.fs_c(N=2).T\n",
    "table4.loc[cos, :] = mca_ind.cos_c(N=2).T\n",
    "table4.loc[cont,:] = mca_ind.cont_c(N=2).T * 1000\n",
    "\n",
    "\n",
    "np.round(table4.astype(float), 2)"
   ]
  },
  {
   "cell_type": "code",
   "execution_count": null,
   "metadata": {},
   "outputs": [],
   "source": [
    "%matplotlib inline\n",
    "import matplotlib.pyplot as plt\n",
    "\n",
    "points = table3.loc[fs].values\n",
    "labels = table3.columns.values\n",
    "\n",
    "plt.figure()\n",
    "#plt.margins(0.1)\n",
    "plt.axhline(0, color='gray')\n",
    "plt.axvline(0, color='gray')\n",
    "plt.xlabel('Factor 1')\n",
    "plt.ylabel('Factor 2')\n",
    "plt.scatter(*points, s=120, marker='o', alpha=0.5, linewidths=0)\n",
    "plt.show()\n"
   ]
  },
  {
   "cell_type": "markdown",
   "metadata": {},
   "source": [
    "We can see that MCA pulls out a primary component of our data, explaining 73% of variance. But what we are not seeing is any kind of structure appearing in the data, such that we could easily apply a cluster-based approach like K-means.\n",
    "Why? Well, maybe it's simply the case that these intrinsic properties of the participants- education job, etc., are not particularly informative when it comes to success rate for the telemarketing campaigns. \n",
    "\n",
    "There's one last thing we can try, which is to perform MCA with the labels as an input factor"
   ]
  },
  {
   "cell_type": "markdown",
   "metadata": {},
   "source": [
    "# Experimenting with Support Vector Machines"
   ]
  },
  {
   "cell_type": "code",
   "execution_count": 873,
   "metadata": {},
   "outputs": [
    {
     "data": {
      "text/plain": [
       "SVC(C=1.0, cache_size=200, class_weight=None, coef0=0.0,\n",
       "  decision_function_shape=None, degree=3, gamma='auto', kernel='rbf',\n",
       "  max_iter=-1, probability=False, random_state=None, shrinking=True,\n",
       "  tol=0.001, verbose=False)"
      ]
     },
     "execution_count": 873,
     "metadata": {},
     "output_type": "execute_result"
    }
   ],
   "source": [
    "from sklearn import svm\n",
    "\n",
    "clf = svm.SVC()\n",
    "clf.fit(train_under, train_labels_under)  \n",
    "\n",
    "\n"
   ]
  },
  {
   "cell_type": "code",
   "execution_count": 874,
   "metadata": {},
   "outputs": [
    {
     "name": "stdout",
     "output_type": "stream",
     "text": [
      "Accuracy score: 0.76\n",
      "Precision score: 0.135\n",
      "Recall score: 0.689\n",
      "ROC score: 0.727\n"
     ]
    }
   ],
   "source": [
    "reportPerformance(test_labels_under, clf.predict(test_under))"
   ]
  },
  {
   "cell_type": "markdown",
   "metadata": {},
   "source": [
    "# Conclusion:\n",
    "\n",
    "I have tried several modeling approaches to predict the outcome of a telemarketing campagin. Of all the approaches, the most effective \n",
    "\n",
    "I've avoided making a model that predicts based on the length of the calls, as this seems a bit circular. This differs from many examples I have found online, which found that call duration is a good predictor. My hope was to try and explore a bit deeper than this, and predict based on more independent data.\n",
    "\n",
    "The bottom line is that the results are not very positive. But why? Well, if I were to take more time to get to the bottom of it, I would explore more rigorous approaches to tuning the models. The other interesting thing, which appears in the article connected to this data, is that they made a reasonable prediction using neural networks. This is something I would like to try if I had more time, but so far I avoided it because I do not feel neural networks are a good \"default\" approach, unless the task is something like image classification. The reason is that it is hard to visualize what a NN has actually done, at the end, when we are dealing with a mix of quantitative and qualitative data. Especially socio economic data... but perhaps I'm being too pessimistic, and it's worth a try to see how NNs compare to random forest approaches, SVMs,  etc.\n",
    "\n",
    "The other point is data pre-processing. Although \"inflating\" the proportion of \"Yes\" samples in the training data still only resulted in 70% recall, and a lot of false-positives (translating to a lot of wasted time calling \"Nos\"), it's important to note that this did increase the recall relative to the random-sampling case (training Yes/No proportions equal to that of the full data set.) Interesting, but not shocking: we gave our model more Yes examples, so it tended to guess \"Yes\" more frequently when it saw the test data. While accuracy of ~75%, and recall of ~70% are better than a coin-flip, this is probably not enough of a trade-off to implement the model in actual callee-selection. Perhaps the undersampling method however could be tuned more for better results.\n",
    "\n",
    "Based on the simple pre-analysis I did, using violin plots, etc., I realize that there is one data dimension seriously lacking here. That is an objective, quantitative indicator of a customers income, or better yet, disposable income. After all, someone cannot sign up for a term-deposit if they do not have a surplus of cash to deposit. Even just the fact that someone is wealthy is not an indicator of this, since their budget could be strictly balanced. As of now, there is no data that separates the objective \"Ability to deposit\" from the subjective \"Willingness to deposit\".\n",
    "\n",
    "My main reason for suspecting the need for such data, is the relatively high percentage of \"Yes\" responses for customers over the age of 60, and the same for the \"retired\" category. While it is speculative, it may be the case that some of these are individuals with lifetime savings, open to wealth-management options. But by the same token, as the advanced age group overlaps with the low-eduation (basic.4yr) group, we could speculate that some of them did not understand the details of the call. It's worth considering, and maybe getting more data, but not nearly strong enough evidence to make a marketing recommendation."
   ]
  },
  {
   "cell_type": "markdown",
   "metadata": {},
   "source": [
    "# Problem Background Info:\n",
    "\n",
    "The webpage for the dataset is located here: https://archive.ics.uci.edu/ml/datasets/bank+marketing\n",
    "\n",
    "Simple descriptions for each column are given as follows:\n",
    "Input variables:\n",
    "# bank client data:\n",
    "1 - age (numeric)  \n",
    "2 - job : type of job (categorical: 'admin.','blue-collar','entrepreneur','housemaid','management','retired','self-employed','services','student','technician','unemployed','unknown')  \n",
    "3 - marital : marital status (categorical: 'divorced','married','single','unknown'; note: 'divorced' means divorced or widowed)  \n",
    "4 - education (categorical: 'basic.4y','basic.6y','basic.9y','high.school','illiterate','professional.course','university.degree','unknown')  \n",
    "5 - default: has credit in default? (categorical: 'no','yes','unknown')  \n",
    "6 - housing: has housing loan? (categorical: 'no','yes','unknown')  \n",
    "7 - loan: has personal loan? (categorical: 'no','yes','unknown')  \n",
    "# related with the last contact of the current campaign:\n",
    "8 - contact: contact communication type (categorical: 'cellular','telephone')   \n",
    "9 - month: last contact month of year (categorical: 'jan', 'feb', 'mar', ..., 'nov', 'dec')  \n",
    "10 - day_of_week: last contact day of the week (categorical: 'mon','tue','wed','thu','fri')  \n",
    "11 - duration: last contact duration, in seconds (numeric). Important note: this attribute highly affects the output target (e.g., if duration=0 then y='no').   \n",
    "Yet, the duration is not known before a call is performed. Also, after the end of the call y is obviously known. Thus, this input should only be included for benchmark purposes and should be discarded if the intention is to have a realistic predictive model.  \n",
    "# other attributes:\n",
    "12 - campaign: number of contacts performed during this campaign and for this client (numeric, includes last contact)  \n",
    "13 - pdays: number of days that passed by after the client was last contacted from a previous campaign (numeric; 999 means client was not previously contacted)  \n",
    "14 - previous: number of contacts performed before this campaign and for this client (numeric)  \n",
    "15 - poutcome: outcome of the previous marketing campaign (categorical: 'failure','nonexistent','success')  \n",
    "# social and economic context attributes\n",
    "16 - emp.var.rate: employment variation rate - quarterly indicator (numeric)  \n",
    "17 - cons.price.idx: consumer price index - monthly indicator (numeric)   \n",
    "18 - cons.conf.idx: consumer confidence index - monthly indicator (numeric)   \n",
    "19 - euribor3m: euribor 3 month rate - daily indicator (numeric)  \n",
    "20 - nr.employed: number of employees - quarterly indicator (numeric)  \n",
    "  \n",
    "Output variable (desired target):  \n",
    "21 - y - has the client subscribed a term deposit? (binary: 'yes','no')  "
   ]
  },
  {
   "cell_type": "markdown",
   "metadata": {},
   "source": []
  },
  {
   "cell_type": "code",
   "execution_count": null,
   "metadata": {},
   "outputs": [],
   "source": []
  }
 ],
 "metadata": {
  "kernelspec": {
   "display_name": "Python 2",
   "language": "python",
   "name": "python2"
  },
  "language_info": {
   "codemirror_mode": {
    "name": "ipython",
    "version": 2
   },
   "file_extension": ".py",
   "mimetype": "text/x-python",
   "name": "python",
   "nbconvert_exporter": "python",
   "pygments_lexer": "ipython2",
   "version": "2.7.12"
  },
  "latex_envs": {
   "LaTeX_envs_menu_present": true,
   "autocomplete": true,
   "bibliofile": "reference.bib",
   "cite_by": "apalike",
   "current_citInitial": 1,
   "eqLabelWithNumbers": true,
   "eqNumInitial": 1,
   "hotkeys": {
    "equation": "Ctrl-E",
    "itemize": "Ctrl-I"
   },
   "labels_anchors": false,
   "latex_user_defs": false,
   "report_style_numbering": true,
   "user_envs_cfg": false
  }
 },
 "nbformat": 4,
 "nbformat_minor": 2
}
